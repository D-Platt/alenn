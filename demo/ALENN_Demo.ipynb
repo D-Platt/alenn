{
 "cells": [
  {
   "cell_type": "markdown",
   "metadata": {},
   "source": [
    "# ALENN - Demo Notebook\n",
    "## Quickstart Guide\n",
    "\n",
    "Donovan Platt\n",
    "<br>\n",
    "Mathematical Institute, University of Oxford\n",
    "<br>\n",
    "Institute for New Economic Thinking at the Oxford Martin School\n",
    "<br>\n",
    "<br>\n",
    "Copyright (c) 2020, University of Oxford. All rights reserved.\n",
    "<br>\n",
    "Distributed under a BSD 3-Clause licence. See the accompanying LICENCE file for further details."
   ]
  },
  {
   "cell_type": "markdown",
   "metadata": {},
   "source": [
    "# Overview\n",
    "This notebook provides, through the use of a simple illustrative example, a complete tutorial on the use of the ALENN package to perform Bayesian estimation for economic simulation models using the neural network-based approach introduced by Platt (2021) in the paper *[Bayesian Estimation of Economic Simulation Models Using Neural Networks](https://link.springer.com/article/10.1007/s10614-021-10095-9)*. In general, the workflow presented here should require minimal adjustment (changing the model function, empirical dataset, priors, and sampler settings) in order to be applied to new examples."
   ]
  },
  {
   "cell_type": "markdown",
   "metadata": {},
   "source": [
    "# Step 1\n",
    "## Importing of Packages\n",
    "As a natural starting point, we begin by importing any required Python packages. With the exception of ALENN, which we assume has already been installed as per the instructions provided in the accompanying README file, all other imported libraries are now fairly standard in most data science workflows."
   ]
  },
  {
   "cell_type": "code",
   "execution_count": 1,
   "metadata": {},
   "outputs": [
    {
     "name": "stderr",
     "output_type": "stream",
     "text": [
      "Using TensorFlow backend.\n"
     ]
    }
   ],
   "source": [
    "# Import the ALENN ABM Estimation Package\n",
    "import alenn\n",
    "\n",
    "# Import Plotting Libraries\n",
    "import matplotlib.pyplot as plt\n",
    "\n",
    "# Import Numerical Computation Libraries\n",
    "import numpy as np\n",
    "import pandas as pd\n",
    "\n",
    "# Import General Mathematical Libraries\n",
    "from scipy import stats\n",
    "\n",
    "# Import Data Storage Libraries\n",
    "import pickle as pkl\n",
    "\n",
    "# Import System Libraries\n",
    "import os\n",
    "import logging"
   ]
  },
  {
   "cell_type": "code",
   "execution_count": 2,
   "metadata": {},
   "outputs": [],
   "source": [
    "# Disable Tensorflow Deprecation Warnings\n",
    "logging.disable(logging.WARNING)\n",
    "os.environ[\"TF_CPP_MIN_LOG_LEVEL\"] = \"3\"\n",
    "\n",
    "# Tensorflow 2.x deprecates many Tensorflow 1.x methods, causing Tensorflow 1.15.0 to output a large number \n",
    "# of (harmless) deprecation warnings when performing the first likelihood calculation. This can be very \n",
    "# distracting, leading us to disable them."
   ]
  },
  {
   "cell_type": "markdown",
   "metadata": {},
   "source": [
    "# Step 2\n",
    "## Creating the Likelihood and Posterior Estimator Object\n",
    "The primary functionally of ALENN is implemented in the `MDNPosterior` class, which contains all the methods required to estimate the likelihood and posterior. It thus follows that the first step in the estimation pipeline is creating an `MDNPosterior` object by calling its constructor method, `alenn.mdn.MDNPosterior`.\n",
    "<br>\n",
    "<br>\n",
    "If no arguments are provided to the constructor, the default neural network architecture introduced in the paper is used. If an alternative is required, however, this can easily be specified through the use of keyword arguments. As an example, increasing the number of lags to 4 and decreasing the number of hidden layers to 2 could be achieved by calling `alenn.mdn.MDNPosterior(num_lags = 4, num_layers = 2)`. Further details can be obtained by consulting the class docstring: \n",
    "```python\n",
    "?alenn.mdn.MDNPosterior\n",
    "```"
   ]
  },
  {
   "cell_type": "code",
   "execution_count": 3,
   "metadata": {},
   "outputs": [
    {
     "name": "stdout",
     "output_type": "stream",
     "text": [
      "--------------------------------------\n",
      "Successfully created a new MDN object:\n",
      "--------------------------------------\n",
      "Number of lags:                3                   \n",
      "Number of mixture components:  16                  \n",
      "Number of neurons per layer:   32                  \n",
      "Number of hidden layers:       3                   \n",
      "Batch size:                    512                 \n",
      "Number of epochs:              12                  \n",
      "Activation function:           relu                \n",
      "Input noise:                   0.2                 \n",
      "Output noise:                  0.2                 \n",
      "--------------------------------------\n",
      "\n"
     ]
    }
   ],
   "source": [
    "# Create an MDN Posterior Approximator Object (Uses Default Settings from the Paper)\n",
    "posterior = alenn.mdn.MDNPosterior()"
   ]
  },
  {
   "cell_type": "markdown",
   "metadata": {},
   "source": [
    "# Step 3\n",
    "## Specifying the Candidate Model\n",
    "At this stage, all we have done is defined a generic posterior estimator object. In order to actually apply the estimator to a given problem, we need to provide the object with additional information. We begin with the candidate model.\n",
    "<br>\n",
    "<br>\n",
    "From the perspective of ALENN, the model is a black box capable of producing simulated time series data. Therefore, the candidate model is provided to ALENN in the form of a function that takes in a 1-d numpy array or list of parameter values and returns a model output matrix as a 2-d numpy array. Ensuring that the model is correctly specified and matches ALENN's input, processing, and output requirements is perhaps the most critical part of this process and should therefore be approached with care.\n",
    "<br>\n",
    "<br>\n",
    "To elaborate, the model function should take, as input, a 1-d numpy array, $\\mathbf{\\theta}$, containing values for each of the model's free parameters (those that should be estimated). The function should then proceed to generate a corresponding set of $R$ model Monte Carlo replications. Each of these replications is a single time series of length $T_{sim}$ generated by the model for the same set of parameter values as the remaining replications, $\\mathbf{\\theta}$, but a different random seed, $i$. Once generated, each replication should be stored as a single column in a $T_{sim} \\times R$ numpy array that is returned as the final output by the model function.\n",
    "<br>\n",
    "<br>\n",
    "It is important to note that, although the choice of seed for each replication is arbitrary, the same set of seeds must be used throughout the entire estimation experiment, i.e. the model function should always use the same set of seeds, regardless of the value of $\\mathbf{\\theta}$ at which the function is evaluated. Footnote 44 in the paper provides a more detailed discussion. Additionally, in most practical examples, the generation of simulated data using the candidate model is likely to be computationally-expensive and thus a bottleneck in the inference process. We therefore suggest that, if the model is costly to simulate, that the model function should generate the replications in parallel.\n",
    "<br>\n",
    "<br>\n",
    "Finally, as suggested by the model function output structure introduced above, this version of ALENN currently only supports univariate time series model outputs. Note, however, that the methodology itself is generally applicable to multivariate outputs and a multivariate extension to this library is likely to be released in the near future."
   ]
  },
  {
   "cell_type": "code",
   "execution_count": 4,
   "metadata": {},
   "outputs": [
    {
     "name": "stdout",
     "output_type": "stream",
     "text": [
      "Model function successfully set.\n",
      "----------------------------------------------------------------------------\n",
      "\n"
     ]
    }
   ],
   "source": [
    "# Specify the Simulated Data Characteristics\n",
    "T_sim = 1000    # Length of each Monte Carlo replication\n",
    "R = 100         # Number of Monte Carlo replications\n",
    "seed_set = 7    # The set of seeds associated with the model replications\n",
    "\n",
    "# In most cases, we suggest that either (T_sim = 1000 and R = 100) or (T_sim = 2000 and R = 50) be considered.\n",
    "# The seed_set variable can be interpreted as defining an arbitrary set of 100 random seeds.\n",
    "\n",
    "# Define the Candidate Model Function\n",
    "def model(theta):\n",
    "    return np.diff(alenn.models.random_walk(700, 0.4, 0.5, theta[0], theta[1], T_sim, R, seed_set), axis = 0)\n",
    "\n",
    "# Add the Model Function to the MDNPosterior Object\n",
    "posterior.set_model(model)\n",
    "\n",
    "# In the above, we have selected the random walk examined in the paper's comparative experiments. This model, \n",
    "# along with the other models considered in the paper, are implemented as part of ALENN and can be accessed via\n",
    "# alenn.models as above (see the corresponding file for more details). \n",
    "#\n",
    "# In this case, we are attempting to estimate the pre- and post-break volatility and have fixed all other parameters \n",
    "# to their default values. Notice that we also consider the series of first differences to induce stationarity. \n",
    "# While stationarity is not an assumption of the methodology, it may be advantageous to consider stationarity \n",
    "# transformations if a given non-stationary model proves to be difficult to estimate."
   ]
  },
  {
   "cell_type": "markdown",
   "metadata": {},
   "source": [
    "# Step 4\n",
    "## Specifying the Model Priors\n",
    "As in any Bayesian exercise, we must specify a prior over the model parameters. In ALENN, the prior is specified\n",
    "in the form of a special data structure. A prior function must be defined separately for each free parameter and each function of this type should take in a single value for that parameter and return a corresponding prior density value. These functions should be stored in a Python list.\n",
    "<br>\n",
    "<br>\n",
    "In all cases, the order of the density functions in the prior list must correspond to the order in which the parameters are passed to the model function. More concretely, if the model function takes in values for parameters $[\\sigma_1, \\sigma_2]$, the prior list must have form $[p(\\sigma_1), p(\\sigma_2)]$."
   ]
  },
  {
   "cell_type": "code",
   "execution_count": 5,
   "metadata": {},
   "outputs": [
    {
     "name": "stdout",
     "output_type": "stream",
     "text": [
      "Model prior successfully set. The model has 2 free parameters.\n",
      "----------------------------------------------------------------------------\n",
      "\n"
     ]
    }
   ],
   "source": [
    "# Define Parameter Priors\n",
    "priors = [stats.uniform(loc = 0, scale = 10).pdf,\n",
    "          stats.uniform(loc = 0, scale = 10).pdf]\n",
    "\n",
    "# Add the Model Priors to the MDNPosterior Object\n",
    "posterior.set_prior(priors)\n",
    "\n",
    "# In the above, we have defined uniform priors over [0, 10] for both the pre- and post-break volatility. In most \n",
    "# applications, we recommend that users make use of SciPy's stats module to define the priors, as we have. This \n",
    "# results in greater readability and can help avoid errors in the prior specification."
   ]
  },
  {
   "cell_type": "markdown",
   "metadata": {},
   "source": [
    "# Step 5\n",
    "## Loading the Empirical Data\n",
    "To complete the problem specification, we are finally required to provide the `MDNPosterior` object with a set of empirical data. This process is rather straightforward and simply requires that the data be provided in the form of a 1-d numpy array.\n",
    "<br>\n",
    "<br>\n",
    "While longer empirical time series are always preferred if available, we typically consider $T_{emp} = 1000$ for problems involving $1-4$ free parameters and $T_{emp} = 2000$ for problems involving $5-10$ free parameters. In many cases, however, we suspect that a significant reduction in the number of data points would be viable, particularly when the data provides a reasonable level of information regarding the model parameters."
   ]
  },
  {
   "cell_type": "code",
   "execution_count": 6,
   "metadata": {},
   "outputs": [
    {
     "name": "stdout",
     "output_type": "stream",
     "text": [
      "Empirical data successfully loaded. There are 999 observations in total.\n",
      "----------------------------------------------------------------------------\n",
      "\n"
     ]
    }
   ],
   "source": [
    "# Load the Empirical Data\n",
    "with open('data/Demo_Data', 'rb') as f:\n",
    "    empirical = pkl.load(f)\n",
    "\n",
    "# Add the Empirical Data to the MDNPosterior Object\n",
    "posterior.load_data(empirical)\n",
    "\n",
    "# The empirical data loaded above is a synthetic series of 999 (first-differenced) observations generated by the\n",
    "# random walk model when initialised using the parameter values associated with the first free parameter set \n",
    "# introduced in the paper's comparative exercises. Our exercise here can thus be seen as a replication of the\n",
    "# associated comparative experiment.\n",
    "#\n",
    "# In a true empirical application, this series would simply be replaced by a series measured from the actual\n",
    "# real-world system being modelled."
   ]
  },
  {
   "cell_type": "markdown",
   "metadata": {},
   "source": [
    "# Step 6\n",
    "## Sampling the Posterior\n",
    "With the `MDNPosterior` object now completely specified, we are able to evaluate the posterior for arbitrary values of $\\mathbf{\\theta}$ and hence sample it using MCMC. As discussed in detail in Appendix 2, we make use of the adaptive Metropolis-Hastings algorithm proposed by Griffin and Walker (2013).\n",
    "<br>\n",
    "<br>\n",
    "As in the case of the posterior, the sampler is also implemented as an object, in this case being an instantiation of the `AdaptiveMCMC` class. In order to perform the sampling procedure, a number of key components must be specified and passed to the object. These include:\n",
    "* Parameter ranges over which to conduct the initial sweep of the parameter space. This is specified in the form of two 1-d numpy arrays that contain, in the same order as is associated with the list of priors discussed in Step 4, the lower and upper bounds for each parameter respectively.\n",
    "* The desired number of samples per sample set. In general, we recommend that this is set to $K = 70$.\n",
    "* The desired number of sample sets to be generated. As a rule of thumb, we suggest generating $S = 5000$ sets for problems involving $1 - 4$ free parameters and $15000$ sets for problems involving $5 - 10$ free parameters. Of course, common convergence diagnostics, such as Galman and Ruben's R, could certainly be used to ensure that a sufficient number of samples has been generated."
   ]
  },
  {
   "cell_type": "code",
   "execution_count": 52,
   "metadata": {},
   "outputs": [
    {
     "name": "stdout",
     "output_type": "stream",
     "text": [
      "-----------------------------------------------\n",
      "Successfully created a new MCMC sampler object:\n",
      "-----------------------------------------------\n",
      "Number of sample sets:         5000                \n",
      "Number of samples per set:     70                  \n",
      "-----------------------------------------------\n",
      "\n",
      "MDNPosterior object successfully loaded.\n",
      "----------------------------------------------------------------------------\n",
      "\n",
      "Initialisation ranges successfully set.\n",
      "\n",
      "           Lower Bound  Upper Bound\n",
      "Parameter                          \n",
      "1                    0           10\n",
      "2                    0           10\n",
      "----------------------------------------------------------------------------\n",
      "\n"
     ]
    }
   ],
   "source": [
    "# Create an Adaptive MCMC Sampler Object\n",
    "sampler = alenn.mcmc.AdaptiveMCMC(K = 70, S = 5000)\n",
    "\n",
    "# Define the Parameter Bounds\n",
    "theta_lower = np.array([0, 0])\n",
    "theta_upper = np.array([10, 10])\n",
    "\n",
    "# Add the Posterior Approximator and Parameter Ranges to the Newly-created Object\n",
    "sampler.set_posterior(posterior)\n",
    "sampler.set_initialisation_ranges(theta_lower, theta_upper)\n",
    "\n",
    "# Please note that the set_posterior method must be called before the set_initialisation_ranges method.\n",
    "\n",
    "# Initiate the Sampling Process\n",
    "sampler.sample_posterior()"
   ]
  },
  {
   "cell_type": "markdown",
   "metadata": {},
   "source": [
    "# Step 7\n",
    "## Processing the Obtained Samples\n",
    "Once the sampling procedure has concluded, all that remains is the processing of the obtained samples into meaningful outputs, i.e. tables or marginal posterior plots.\n",
    "<br>\n",
    "<br>\n",
    "The aforementioned samples may be extracted from the `AdaptiveMCMC` object using the `process_samples` method, which requires the specification of a single integer argument, `burn_in`. This argument specifies the number of sample sets that should be discarded as part of an initial burning-in period, as is standard in all MCMC algorithms, and we typically recommend burning-in periods of $1500-2500$ sample sets for $S = 5000$ and $7500-10000$ sample sets for $S = 15000$. Of course, some problems may require alternative configurations depending on their associated convergence rates and we therefore recommend that multiple chains be generated by repeating Step 6 several times in order to diagnose convergence when applying the methodology.\n",
    "<br>\n",
    "<br>\n",
    "The `process_samples` method returns the obtained samples in the form of a 2-d numpy array, where each column represents the posterior samples obtained for a given parameter, with the columns following the same parameter order as the original model function. The method output also contains a final, extra column consisting of the the associated log-likelihood samples."
   ]
  },
  {
   "cell_type": "code",
   "execution_count": 48,
   "metadata": {},
   "outputs": [
    {
     "name": "stdout",
     "output_type": "stream",
     "text": [
      "Final Estimation Results:\n",
      "\n",
      "           Posterior Mean  Posterior Std. Dev.\n",
      "Parameter                                     \n",
      "1                0.946465             0.032059\n",
      "2                1.951355             0.102465\n"
     ]
    }
   ],
   "source": [
    "# Result Table\n",
    "\n",
    "# Note that we illustrate the construction of a result table for a single chain, whereas the corresponding result\n",
    "# in Section 4.1 is associated with 5 chains.\n",
    "\n",
    "# Process the Sampler Output\n",
    "samples = sampler.process_samples(burn_in = 2500)\n",
    "\n",
    "# Calculate the Posterior Mean\n",
    "pos_mean = samples[:, :posterior.num_param].mean(axis = 0)\n",
    "\n",
    "# Calculate the Posterior Standard Deviation\n",
    "pos_std = samples[:, :posterior.num_param].std(axis = 0)\n",
    "\n",
    "# Construct a Result Table\n",
    "result_table = pd.DataFrame(np.array([pos_mean, pos_std]).transpose(), columns = ['Posterior Mean', 'Posterior Std. Dev.'])\n",
    "result_table.index.name = 'Parameter'\n",
    "result_table.index += 1\n",
    "\n",
    "# Display the Result Table\n",
    "print('Final Estimation Results:')\n",
    "print('')\n",
    "print(result_table)"
   ]
  },
  {
   "cell_type": "code",
   "execution_count": 51,
   "metadata": {},
   "outputs": [
    {
     "data": {
      "image/png": "[encoded data removed]",
      "text/plain": [
       "<Figure size 720x360 with 2 Axes>"
      ]
     },
     "metadata": {
      "needs_background": "light"
     },
     "output_type": "display_data"
    }
   ],
   "source": [
    "# Marginal Posterior Plots\n",
    "\n",
    "# Note that we illustrate the construction of marginal posterior plots for a single chain, whereas the corresponding \n",
    "# result in Section 4.1 is associated with 5 chains.\n",
    "\n",
    "# Process the Sampler Output\n",
    "samples = sampler.process_samples(burn_in = 2500)\n",
    "\n",
    "# Set the Parameter Names\n",
    "param_names = [r'$\\sigma_1$', r'$\\sigma_2$']\n",
    "\n",
    "# Set-Up the Figure\n",
    "fig = plt.figure(figsize = (5 * posterior.num_param, 5))\n",
    "\n",
    "# Loop Over the Free Parameters\n",
    "for i in range(posterior.num_param):\n",
    "    \n",
    "    # Plot the Posterior Histogram\n",
    "    plt.subplot(1, posterior.num_param, i + 1)\n",
    "    plt.hist(samples[:, i], 25, density = True, color = 'b', alpha = 0.5)\n",
    "    \n",
    "    # Plot the Prior Density\n",
    "    prior_range = np.linspace(samples[:, i].min() * 0.9, samples[:, i].max() * 1.1, 100)\n",
    "    plt.plot(prior_range, [priors[i](x) for x in prior_range], color = 'r', alpha = 0.75)\n",
    "    \n",
    "    # Note that we are only plotting the prior for a limited range such that it extends only slightly\n",
    "    # beyond the posterior. This is done to improve the clarity of presentation. In reality, the prior is \n",
    "    # substantially wider than the posterior and would extend from 0 to 10 for this example.\n",
    "    \n",
    "    # Plot the Posterior Mean\n",
    "    plt.axvline(x = samples[:, i].mean(), c = 'k', linestyle = 'dashed', alpha = 0.75)\n",
    "    \n",
    "    # Label the Plot\n",
    "    plt.xlabel(param_names[i])\n",
    "    plt.ylabel(r'$p($' + param_names[i] + r'$)$')\n",
    "    plt.legend(['Prior Density', 'Posterior Mean', 'Posterior Density'], fontsize = 8)\n",
    "\n",
    "# Set the Figure Layout\n",
    "plt.tight_layout()\n",
    "\n",
    "# Display the Figure\n",
    "plt.show()"
   ]
  }
 ],
 "metadata": {
  "kernelspec": {
   "display_name": "Python 3",
   "language": "python",
   "name": "python3"
  },
  "language_info": {
   "codemirror_mode": {
    "name": "ipython",
    "version": 3
   },
   "file_extension": ".py",
   "mimetype": "text/x-python",
   "name": "python",
   "nbconvert_exporter": "python",
   "pygments_lexer": "ipython3",
   "version": "3.7.9"
  }
 },
 "nbformat": 4,
 "nbformat_minor": 4
}
