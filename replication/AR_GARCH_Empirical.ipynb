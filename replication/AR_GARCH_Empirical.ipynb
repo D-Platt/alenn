{
 "cells": [
  {
   "cell_type": "markdown",
   "metadata": {},
   "source": [
    "# ALENN - Replication Notebook \n",
    "## AR-GARCH Model, Empirical\n",
    "\n",
    "Donovan Platt\n",
    "<br>\n",
    "Mathematical Institute, University of Oxford\n",
    "<br>\n",
    "Institute for New Economic Thinking at the Oxford Martin School\n",
    "<br>\n",
    "<br>\n",
    "Copyright (c) 2020, University of Oxford. All rights reserved.\n",
    "<br>\n",
    "Distributed under a BSD 3-Clause licence. See the accompanying LICENCE file for further details."
   ]
  },
  {
   "cell_type": "markdown",
   "metadata": {},
   "source": [
    "# 1. Modules and Packages\n",
    "Load all required modules and packages."
   ]
  },
  {
   "cell_type": "code",
   "execution_count": 1,
   "metadata": {},
   "outputs": [
    {
     "name": "stderr",
     "output_type": "stream",
     "text": [
      "Using TensorFlow backend.\n"
     ]
    }
   ],
   "source": [
    "# Import the ALENN ABM Estimation Package\n",
    "import alenn\n",
    "\n",
    "# Import Numerical Computation Libraries\n",
    "import numpy as np\n",
    "import pandas as pd\n",
    "\n",
    "# Import General Mathematical Libraries\n",
    "from scipy import stats\n",
    "\n",
    "# Import System Libraries\n",
    "import os\n",
    "import logging\n",
    "\n",
    "# Import Data Storage Libraries\n",
    "import pickle as pkl"
   ]
  },
  {
   "cell_type": "code",
   "execution_count": 2,
   "metadata": {},
   "outputs": [],
   "source": [
    "# Disable Tensorflow Deprecation Warnings\n",
    "logging.disable(logging.WARNING)\n",
    "os.environ[\"TF_CPP_MIN_LOG_LEVEL\"] = \"3\"\n",
    "\n",
    "# Tensorflow 2.x deprecates many Tensorflow 1.x methods, causing Tensorflow 1.15.0 to output a large number \n",
    "# of deprecation warnings when performing the first likelihood calculation. This can be very distracting,\n",
    "# leading us to disable them."
   ]
  },
  {
   "cell_type": "markdown",
   "metadata": {},
   "source": [
    "# 2. Estimation Experiments\n",
    "Replication of the MDN experiments. Note that here we generate only a single Markov Chain as opposed to the 5 considered in the original paper."
   ]
  },
  {
   "cell_type": "markdown",
   "metadata": {},
   "source": [
    "## 2.1. Pseudo-Empirical Data"
   ]
  },
  {
   "cell_type": "markdown",
   "metadata": {},
   "source": [
    "### Model Specification"
   ]
  },
  {
   "cell_type": "code",
   "execution_count": 4,
   "metadata": {},
   "outputs": [],
   "source": [
    "# Specify the Simulated Data Characteristics\n",
    "T_emp = 2000    # Pseudo-empirical series length \n",
    "T_sim = 2000    # Length of each Monte Carlo replication\n",
    "n = 50          # Number of Monte Carlo replications\n",
    "\n",
    "# Specify the Pseudo-Empirical Data\n",
    "empirical = alenn.models.ar_garch(0, 0.2, 0.25, 0.1, 0.5, 0.2, T_emp, 1, 1)[:, 0]\n",
    "\n",
    "# Define the Candidate Model Function\n",
    "def model(theta):\n",
    "    return alenn.models.ar_garch(0, theta[0], theta[1], theta[2], theta[3], theta[4], T_sim, n, 7)\n",
    "\n",
    "# Define Prior\n",
    "priors = [stats.uniform(loc = -1.5, scale = 3).pdf,\n",
    "          stats.uniform(loc = -1.5, scale = 3).pdf,\n",
    "          stats.uniform(loc = 0, scale = 2).pdf,\n",
    "          stats.uniform(loc = 0, scale = 2).pdf,\n",
    "          stats.uniform(loc = 0, scale = 2).pdf]\n",
    "\n",
    "# Define the Parameter Bounds\n",
    "theta_lower = np.array([-1.5, -1.5, 0, 0, 0])\n",
    "theta_upper = np.array([1.5, 1.5, 2, 2, 2])"
   ]
  },
  {
   "cell_type": "markdown",
   "metadata": {},
   "source": [
    "### Posterior Specification"
   ]
  },
  {
   "cell_type": "code",
   "execution_count": 5,
   "metadata": {},
   "outputs": [
    {
     "name": "stdout",
     "output_type": "stream",
     "text": [
      "--------------------------------------\n",
      "Successfully created a new MDN object:\n",
      "--------------------------------------\n",
      "Number of lags:                3                   \n",
      "Number of mixture components:  16                  \n",
      "Number of neurons per layer:   32                  \n",
      "Number of hidden layers:       3                   \n",
      "Batch size:                    512                 \n",
      "Number of epochs:              12                  \n",
      "Activation function:           relu                \n",
      "Input noise:                   0.2                 \n",
      "Output noise:                  0.2                 \n",
      "--------------------------------------\n",
      "\n",
      "Model function successfully set.\n",
      "----------------------------------------------------------------------------\n",
      "\n",
      "Model prior successfully set. The model has 5 free parameters.\n",
      "----------------------------------------------------------------------------\n",
      "\n",
      "Empirical data successfully loaded. There are 2000 observations in total.\n",
      "----------------------------------------------------------------------------\n",
      "\n"
     ]
    }
   ],
   "source": [
    "# Create an MDN Posterior Approximator Object (Uses Default Settings from the Paper)\n",
    "posterior = alenn.mdn.MDNPosterior()\n",
    "\n",
    "# Add the Model, Priors, and Empirical Data to the Newly-created Object\n",
    "posterior.set_model(model)\n",
    "posterior.set_prior(priors)\n",
    "posterior.load_data(empirical)"
   ]
  },
  {
   "cell_type": "markdown",
   "metadata": {},
   "source": [
    "### Sampler Specification"
   ]
  },
  {
   "cell_type": "code",
   "execution_count": 8,
   "metadata": {
    "scrolled": false
   },
   "outputs": [
    {
     "name": "stdout",
     "output_type": "stream",
     "text": [
      "-----------------------------------------------\n",
      "Successfully created a new MCMC sampler object:\n",
      "-----------------------------------------------\n",
      "Number of sample sets:         15000               \n",
      "Number of samples per set:     70                  \n",
      "-----------------------------------------------\n",
      "\n",
      "MDNPosterior object successfully loaded.\n",
      "----------------------------------------------------------------------------\n",
      "\n",
      "Initialisation ranges successfully set.\n",
      "\n",
      "           Lower Bound  Upper Bound\n",
      "Parameter                          \n",
      "1                 -1.5          1.5\n",
      "2                 -1.5          1.5\n",
      "3                  0.0          2.0\n",
      "4                  0.0          2.0\n",
      "5                  0.0          2.0\n",
      "----------------------------------------------------------------------------\n",
      "\n"
     ]
    }
   ],
   "source": [
    "# Create an Adaptive MCMC Sampler Object\n",
    "sampler = alenn.mcmc.AdaptiveMCMC(K = 70, S = 15000)\n",
    "\n",
    "# Add the Posterior Approximator and Parameter Ranges to the Newly-created Object\n",
    "sampler.set_posterior(posterior)\n",
    "sampler.set_initialisation_ranges(theta_lower, theta_upper)\n",
    "\n",
    "# Initiate the Sampling Process\n",
    "sampler.sample_posterior()"
   ]
  },
  {
   "cell_type": "markdown",
   "metadata": {},
   "source": [
    "### Result Processing"
   ]
  },
  {
   "cell_type": "code",
   "execution_count": 7,
   "metadata": {
    "scrolled": true
   },
   "outputs": [
    {
     "name": "stdout",
     "output_type": "stream",
     "text": [
      "Final Estimation Results:\n",
      "\n",
      "           Posterior Mean  Posterior Std. Dev.\n",
      "Parameter                                     \n",
      "1                0.203240             0.022455\n",
      "2                0.271714             0.018937\n",
      "3                0.074780             0.008301\n",
      "4                0.624457             0.049814\n",
      "5                0.219923             0.042379\n"
     ]
    }
   ],
   "source": [
    "# Process the Sampler Output\n",
    "samples = sampler.process_samples(burn_in = 10000)\n",
    "\n",
    "# Calculate the Posterior Mean\n",
    "pos_mean = samples[:, :posterior.num_param].mean(axis = 0)\n",
    "\n",
    "# Calculate the Posterior Standard Deviation\n",
    "pos_std = samples[:, :posterior.num_param].std(axis = 0)\n",
    "\n",
    "# Construct a Result Table\n",
    "result_table = pd.DataFrame(np.array([pos_mean, pos_std]).transpose(), columns = ['Posterior Mean', 'Posterior Std. Dev.'])\n",
    "result_table.index.name = 'Parameter'\n",
    "result_table.index += 1\n",
    "\n",
    "# Display the Result Table\n",
    "print('Final Estimation Results:')\n",
    "print('')\n",
    "print(result_table)"
   ]
  },
  {
   "cell_type": "markdown",
   "metadata": {},
   "source": [
    "## 2.2. FTSE 100"
   ]
  },
  {
   "cell_type": "markdown",
   "metadata": {},
   "source": [
    "### Model Specification"
   ]
  },
  {
   "cell_type": "code",
   "execution_count": 3,
   "metadata": {},
   "outputs": [],
   "source": [
    "# Specify the Simulated Data Characteristics\n",
    "T_sim = 2000    # Length of each Monte Carlo replication\n",
    "n = 50          # Number of Monte Carlo replications\n",
    "\n",
    "# Load the Empirical Data\n",
    "with open('data/FTSE_100_Log_Returns', 'rb') as f:\n",
    "    empirical = pkl.load(f)\n",
    "\n",
    "# The above empirical data corresponds to log-returns derived from the closing prices of the \n",
    "# FTSE 100 from 03-01-2012 to 30-12-2019. The data is widely and freely available from \n",
    "# various sources.\n",
    "\n",
    "# Determine the Empirical Variance\n",
    "T_emp = len(empirical)\n",
    "sigma_emp = empirical.var()\n",
    "\n",
    "# Define the Candidate Model Function\n",
    "def model(theta):\n",
    "    return alenn.models.ar_garch(0, theta[0], theta[1], theta[2], theta[3], theta[4], T_sim, n, 7)\n",
    "\n",
    "# Define Prior\n",
    "priors = [stats.uniform(loc = -1.5, scale = 3).pdf,\n",
    "          stats.uniform(loc = -1.5, scale = 3).pdf,\n",
    "          stats.uniform(loc = 0, scale = 2 * sigma_emp).pdf,\n",
    "          stats.uniform(loc = 0, scale = 2).pdf,\n",
    "          stats.uniform(loc = 0, scale = 2).pdf]\n",
    "\n",
    "# Define the Parameter Bounds\n",
    "theta_lower = np.array([-1.5, -1.5, 0, 0, 0])\n",
    "theta_upper = np.array([1.5, 1.5, 2 * sigma_emp, 2, 2])"
   ]
  },
  {
   "cell_type": "markdown",
   "metadata": {},
   "source": [
    "### Posterior Specification"
   ]
  },
  {
   "cell_type": "code",
   "execution_count": 4,
   "metadata": {},
   "outputs": [
    {
     "name": "stdout",
     "output_type": "stream",
     "text": [
      "--------------------------------------\n",
      "Successfully created a new MDN object:\n",
      "--------------------------------------\n",
      "Number of lags:                3                   \n",
      "Number of mixture components:  16                  \n",
      "Number of neurons per layer:   32                  \n",
      "Number of hidden layers:       3                   \n",
      "Batch size:                    512                 \n",
      "Number of epochs:              12                  \n",
      "Activation function:           relu                \n",
      "Input noise:                   0.2                 \n",
      "Output noise:                  0.2                 \n",
      "--------------------------------------\n",
      "\n",
      "Model function successfully set.\n",
      "----------------------------------------------------------------------------\n",
      "\n",
      "Model prior successfully set. The model has 5 free parameters.\n",
      "----------------------------------------------------------------------------\n",
      "\n",
      "Empirical data successfully loaded. There are 2019 observations in total.\n",
      "----------------------------------------------------------------------------\n",
      "\n"
     ]
    }
   ],
   "source": [
    "# Create an MDN Posterior Approximator Object (Uses Default Settings from the Paper)\n",
    "posterior = alenn.mdn.MDNPosterior()\n",
    "\n",
    "# Add the Model, Priors, and Empirical Data to the Newly-created Object\n",
    "posterior.set_model(model)\n",
    "posterior.set_prior(priors)\n",
    "posterior.load_data(empirical)"
   ]
  },
  {
   "cell_type": "markdown",
   "metadata": {},
   "source": [
    "### Sampler Specification"
   ]
  },
  {
   "cell_type": "code",
   "execution_count": 7,
   "metadata": {
    "scrolled": false
   },
   "outputs": [
    {
     "name": "stdout",
     "output_type": "stream",
     "text": [
      "-----------------------------------------------\n",
      "Successfully created a new MCMC sampler object:\n",
      "-----------------------------------------------\n",
      "Number of sample sets:         15000               \n",
      "Number of samples per set:     70                  \n",
      "-----------------------------------------------\n",
      "\n",
      "MDNPosterior object successfully loaded.\n",
      "----------------------------------------------------------------------------\n",
      "\n",
      "Initialisation ranges successfully set.\n",
      "\n",
      "           Lower Bound  Upper Bound\n",
      "Parameter                          \n",
      "1                 -1.5     1.500000\n",
      "2                 -1.5     1.500000\n",
      "3                  0.0     0.000141\n",
      "4                  0.0     2.000000\n",
      "5                  0.0     2.000000\n",
      "----------------------------------------------------------------------------\n",
      "\n"
     ]
    }
   ],
   "source": [
    "# Create an Adaptive MCMC Sampler Object\n",
    "sampler = alenn.mcmc.AdaptiveMCMC(K = 70, S = 15000)\n",
    "\n",
    "# Add the Posterior Approximator and Parameter Ranges to the Newly-created Object\n",
    "sampler.set_posterior(posterior)\n",
    "sampler.set_initialisation_ranges(theta_lower, theta_upper)\n",
    "\n",
    "# Initiate the Sampling Process\n",
    "sampler.sample_posterior()"
   ]
  },
  {
   "cell_type": "markdown",
   "metadata": {},
   "source": [
    "### Result Processing"
   ]
  },
  {
   "cell_type": "code",
   "execution_count": 6,
   "metadata": {
    "scrolled": false
   },
   "outputs": [
    {
     "name": "stdout",
     "output_type": "stream",
     "text": [
      "Final Estimation Results:\n",
      "\n",
      "           Posterior Mean  Posterior Std. Dev.\n",
      "Parameter                                     \n",
      "1            3.765961e-04         2.529855e-02\n",
      "2           -1.248016e-02         2.691702e-02\n",
      "3            9.727995e-07         4.765273e-07\n",
      "4            9.626374e-02         2.294433e-02\n",
      "5            8.932834e-01         2.816114e-02\n"
     ]
    }
   ],
   "source": [
    "# Process the Sampler Output\n",
    "samples = sampler.process_samples(burn_in = 10000)\n",
    "\n",
    "# Calculate the Posterior Mean\n",
    "pos_mean = samples[:, :posterior.num_param].mean(axis = 0)\n",
    "\n",
    "# Calculate the Posterior Standard Deviation\n",
    "pos_std = samples[:, :posterior.num_param].std(axis = 0)\n",
    "\n",
    "# Construct a Result Table\n",
    "result_table = pd.DataFrame(np.array([pos_mean, pos_std]).transpose(), columns = ['Posterior Mean', 'Posterior Std. Dev.'])\n",
    "result_table.index.name = 'Parameter'\n",
    "result_table.index += 1\n",
    "\n",
    "# Display the Result Table\n",
    "print('Final Estimation Results:')\n",
    "print('')\n",
    "print(result_table)"
   ]
  },
  {
   "cell_type": "markdown",
   "metadata": {},
   "source": [
    "## 2.2. Nikkei 225"
   ]
  },
  {
   "cell_type": "markdown",
   "metadata": {},
   "source": [
    "### Model Specification"
   ]
  },
  {
   "cell_type": "code",
   "execution_count": 3,
   "metadata": {},
   "outputs": [],
   "source": [
    "# Specify the Simulated Data Characteristics\n",
    "T_sim = 2000    # Length of each Monte Carlo replication\n",
    "n = 50          # Number of Monte Carlo replications\n",
    "\n",
    "# Load the Empirical Data\n",
    "with open('data/Nikkei_225_Log_Returns', 'rb') as f:\n",
    "    empirical = pkl.load(f)\n",
    "\n",
    "# The above empirical data corresponds to log-returns derived from the closing prices of the \n",
    "# Nikkei 225 from 01-03-2011 to 30-12-2019. The data is widely and freely available from \n",
    "# various sources.\n",
    "\n",
    "# Determine the Empirical Variance\n",
    "T_emp = len(empirical)\n",
    "sigma_emp = empirical.var()\n",
    "\n",
    "# Define the Candidate Model Function\n",
    "def model(theta):\n",
    "    return alenn.models.ar_garch(0, theta[0], theta[1], theta[2], theta[3], theta[4], T_sim, n, 7)\n",
    "\n",
    "# Define Prior\n",
    "priors = [stats.uniform(loc = -1.5, scale = 3).pdf,\n",
    "          stats.uniform(loc = -1.5, scale = 3).pdf,\n",
    "          stats.uniform(loc = 0, scale = 2 * sigma_emp).pdf,\n",
    "          stats.uniform(loc = 0, scale = 2).pdf,\n",
    "          stats.uniform(loc = 0, scale = 2).pdf]\n",
    "\n",
    "# Define the Parameter Bounds\n",
    "theta_lower = np.array([-1.5, -1.5, 0, 0, 0])\n",
    "theta_upper = np.array([1.5, 1.5, 2 * sigma_emp, 2, 2])"
   ]
  },
  {
   "cell_type": "markdown",
   "metadata": {},
   "source": [
    "### Posterior Specification"
   ]
  },
  {
   "cell_type": "code",
   "execution_count": 4,
   "metadata": {},
   "outputs": [
    {
     "name": "stdout",
     "output_type": "stream",
     "text": [
      "--------------------------------------\n",
      "Successfully created a new MDN object:\n",
      "--------------------------------------\n",
      "Number of lags:                3                   \n",
      "Number of mixture components:  16                  \n",
      "Number of neurons per layer:   32                  \n",
      "Number of hidden layers:       3                   \n",
      "Batch size:                    512                 \n",
      "Number of epochs:              12                  \n",
      "Activation function:           relu                \n",
      "Input noise:                   0.2                 \n",
      "Output noise:                  0.2                 \n",
      "--------------------------------------\n",
      "\n",
      "Model function successfully set.\n",
      "----------------------------------------------------------------------------\n",
      "\n",
      "Model prior successfully set. The model has 5 free parameters.\n",
      "----------------------------------------------------------------------------\n",
      "\n",
      "Empirical data successfully loaded. There are 2165 observations in total.\n",
      "----------------------------------------------------------------------------\n",
      "\n"
     ]
    }
   ],
   "source": [
    "# Create an MDN Posterior Approximator Object (Uses Default Settings from the Paper)\n",
    "posterior = alenn.mdn.MDNPosterior()\n",
    "\n",
    "# Add the Model, Priors, and Empirical Data to the Newly-created Object\n",
    "posterior.set_model(model)\n",
    "posterior.set_prior(priors)\n",
    "posterior.load_data(empirical)"
   ]
  },
  {
   "cell_type": "markdown",
   "metadata": {},
   "source": [
    "### Sampler Specification"
   ]
  },
  {
   "cell_type": "code",
   "execution_count": 7,
   "metadata": {
    "scrolled": false
   },
   "outputs": [
    {
     "name": "stdout",
     "output_type": "stream",
     "text": [
      "-----------------------------------------------\n",
      "Successfully created a new MCMC sampler object:\n",
      "-----------------------------------------------\n",
      "Number of sample sets:         15000               \n",
      "Number of samples per set:     70                  \n",
      "-----------------------------------------------\n",
      "\n",
      "MDNPosterior object successfully loaded.\n",
      "----------------------------------------------------------------------------\n",
      "\n",
      "Initialisation ranges successfully set.\n",
      "\n",
      "           Lower Bound  Upper Bound\n",
      "Parameter                          \n",
      "1                 -1.5     1.500000\n",
      "2                 -1.5     1.500000\n",
      "3                  0.0     0.000345\n",
      "4                  0.0     2.000000\n",
      "5                  0.0     2.000000\n",
      "----------------------------------------------------------------------------\n",
      "\n"
     ]
    }
   ],
   "source": [
    "# Create an Adaptive MCMC Sampler Object\n",
    "sampler = alenn.mcmc.AdaptiveMCMC(K = 70, S = 15000)\n",
    "\n",
    "# Add the Posterior Approximator and Parameter Ranges to the Newly-created Object\n",
    "sampler.set_posterior(posterior)\n",
    "sampler.set_initialisation_ranges(theta_lower, theta_upper)\n",
    "\n",
    "# Initiate the Sampling Process\n",
    "sampler.sample_posterior()"
   ]
  },
  {
   "cell_type": "markdown",
   "metadata": {},
   "source": [
    "### Result Processing"
   ]
  },
  {
   "cell_type": "code",
   "execution_count": 6,
   "metadata": {
    "scrolled": false
   },
   "outputs": [
    {
     "name": "stdout",
     "output_type": "stream",
     "text": [
      "Final Estimation Results:\n",
      "\n",
      "           Posterior Mean  Posterior Std. Dev.\n",
      "Parameter                                     \n",
      "1               -0.010300         2.928748e-02\n",
      "2                0.045938         2.950828e-02\n",
      "3                0.000001         5.099562e-07\n",
      "4                0.101682         1.649215e-02\n",
      "5                0.894102         1.825518e-02\n"
     ]
    }
   ],
   "source": [
    "# Process the Sampler Output\n",
    "samples = sampler.process_samples(burn_in = 10000)\n",
    "\n",
    "# Calculate the Posterior Mean\n",
    "pos_mean = samples[:, :posterior.num_param].mean(axis = 0)\n",
    "\n",
    "# Calculate the Posterior Standard Deviation\n",
    "pos_std = samples[:, :posterior.num_param].std(axis = 0)\n",
    "\n",
    "# Construct a Result Table\n",
    "result_table = pd.DataFrame(np.array([pos_mean, pos_std]).transpose(), columns = ['Posterior Mean', 'Posterior Std. Dev.'])\n",
    "result_table.index.name = 'Parameter'\n",
    "result_table.index += 1\n",
    "\n",
    "# Display the Result Table\n",
    "print('Final Estimation Results:')\n",
    "print('')\n",
    "print(result_table)"
   ]
  }
 ],
 "metadata": {
  "kernelspec": {
   "display_name": "Python 3",
   "language": "python",
   "name": "python3"
  },
  "language_info": {
   "codemirror_mode": {
    "name": "ipython",
    "version": 3
   },
   "file_extension": ".py",
   "mimetype": "text/x-python",
   "name": "python",
   "nbconvert_exporter": "python",
   "pygments_lexer": "ipython3",
   "version": "3.7.9"
  }
 },
 "nbformat": 4,
 "nbformat_minor": 4
}
