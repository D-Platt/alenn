{
 "cells": [
  {
   "cell_type": "markdown",
   "metadata": {},
   "source": [
    "# ALENN - Replication Notebook \n",
    "## Franke and Westerhoff (2012) Model, KDE\n",
    "\n",
    "Donovan Platt\n",
    "<br>\n",
    "Mathematical Institute, University of Oxford\n",
    "<br>\n",
    "Institute for New Economic Thinking at the Oxford Martin School\n",
    "<br>\n",
    "<br>\n",
    "Copyright (c) 2020, University of Oxford. All rights reserved.\n",
    "<br>\n",
    "Distributed under a BSD 3-Clause licence. See the accompanying LICENCE file for further details."
   ]
  },
  {
   "cell_type": "markdown",
   "metadata": {},
   "source": [
    "# 1. Modules and Packages\n",
    "Load all required modules and packages."
   ]
  },
  {
   "cell_type": "code",
   "execution_count": 1,
   "metadata": {},
   "outputs": [
    {
     "name": "stderr",
     "output_type": "stream",
     "text": [
      "Using TensorFlow backend.\n"
     ]
    }
   ],
   "source": [
    "# Import the ALENN ABM Estimation Package\n",
    "import alenn\n",
    "\n",
    "# Import Numerical Computation Libraries\n",
    "import numpy as np\n",
    "import pandas as pd\n",
    "\n",
    "# Import General Mathematical Libraries\n",
    "from scipy import stats"
   ]
  },
  {
   "cell_type": "markdown",
   "metadata": {},
   "source": [
    "# 2. Estimation Experiments\n",
    "Replication of the KDE experiments. Note that here we generate only a single Markov Chain as opposed to the 5 considered in the original paper."
   ]
  },
  {
   "cell_type": "markdown",
   "metadata": {},
   "source": [
    "## 2.1. Free Parameter Set HPM"
   ]
  },
  {
   "cell_type": "markdown",
   "metadata": {},
   "source": [
    "### Model Specification"
   ]
  },
  {
   "cell_type": "code",
   "execution_count": 2,
   "metadata": {},
   "outputs": [],
   "source": [
    "# Specify the Simulated Data Characteristics\n",
    "T_emp = 1000    # Pseudo-empirical series length \n",
    "T_sim = 1000    # Length of each Monte Carlo replication\n",
    "n = 100         # Number of Monte Carlo replications\n",
    "\n",
    "# Specify the Pseudo-Empirical Data\n",
    "empirical = np.diff(alenn.models.fw_hpm(0.01, 1, 0.12, 1.5, -0.327, 1.79, 18.43, 0.758, 2.087, 0, T_emp, 1, 1), axis = 0)[:, 0]\n",
    "\n",
    "# Define the Candidate Model Function\n",
    "def model(theta):\n",
    "    return np.diff(alenn.models.fw_hpm(0.01, 1, 0.12, 1.5, theta[0], theta[1], theta[2], 0.758, theta[3], 0, T_sim, n, 7), axis = 0)\n",
    "\n",
    "# Define Parameter Priors\n",
    "priors = [stats.uniform(loc = -1, scale = 2).pdf,\n",
    "          stats.uniform(loc = 0, scale = 2).pdf,\n",
    "          stats.uniform(loc = 0, scale = 20).pdf,\n",
    "          stats.uniform(loc = 0, scale = 5).pdf]\n",
    "\n",
    "# Define the Parameter Bounds\n",
    "theta_lower = np.array([-1, 0, 0, 0])\n",
    "theta_upper = np.array([1, 2, 20, 5])"
   ]
  },
  {
   "cell_type": "markdown",
   "metadata": {},
   "source": [
    "### Posterior Specification"
   ]
  },
  {
   "cell_type": "code",
   "execution_count": 3,
   "metadata": {
    "scrolled": true
   },
   "outputs": [
    {
     "name": "stdout",
     "output_type": "stream",
     "text": [
      "------------------------------------------\n",
      "Successfully created a new KDE object:\n",
      "------------------------------------------\n",
      "\n",
      "Using a Silverman bandwidth approximation.\n",
      "------------------------------------------\n",
      "\n",
      "Model function successfully set.\n",
      "----------------------------------------------------------------------------\n",
      "\n",
      "Model prior successfully set. The model has 4 free parameters.\n",
      "----------------------------------------------------------------------------\n",
      "\n",
      "Empirical data successfully loaded. There are 1000 observations in total.\n",
      "----------------------------------------------------------------------------\n",
      "\n"
     ]
    }
   ],
   "source": [
    "# Create a KDE Posterior Approximator Object (Uses Default Settings from the Paper)\n",
    "posterior = alenn.kde.KDEPosterior()\n",
    "\n",
    "# Add the Model, Priors, and Empirical Data to the Newly-created Object\n",
    "posterior.set_model(model)\n",
    "posterior.set_prior(priors)\n",
    "posterior.load_data(empirical)"
   ]
  },
  {
   "cell_type": "markdown",
   "metadata": {},
   "source": [
    "### Sampler Specification"
   ]
  },
  {
   "cell_type": "code",
   "execution_count": 4,
   "metadata": {
    "scrolled": false
   },
   "outputs": [
    {
     "name": "stdout",
     "output_type": "stream",
     "text": [
      "-----------------------------------------------\n",
      "Successfully created a new MCMC sampler object:\n",
      "-----------------------------------------------\n",
      "Number of sample sets:         5000                \n",
      "Number of samples per set:     70                  \n",
      "-----------------------------------------------\n",
      "\n",
      "KDEPosterior object successfully loaded.\n",
      "----------------------------------------------------------------------------\n",
      "\n",
      "Initialisation ranges successfully set.\n",
      "\n",
      "           Lower Bound  Upper Bound\n",
      "Parameter                          \n",
      "1                   -1            1\n",
      "2                    0            2\n",
      "3                    0           20\n",
      "4                    0            5\n",
      "----------------------------------------------------------------------------\n",
      "\n"
     ]
    }
   ],
   "source": [
    "# Create an Adaptive MCMC Sampler Object\n",
    "sampler = alenn.mcmc.AdaptiveMCMC(K = 70, S = 5000)\n",
    "\n",
    "# Add the Posterior Approximator and Parameter Ranges to the Newly-created Object\n",
    "sampler.set_posterior(posterior)\n",
    "sampler.set_initialisation_ranges(theta_lower, theta_upper)\n",
    "\n",
    "# Initiate the Sampling Process\n",
    "sampler.sample_posterior()"
   ]
  },
  {
   "cell_type": "markdown",
   "metadata": {},
   "source": [
    "### Result Processing"
   ]
  },
  {
   "cell_type": "code",
   "execution_count": 5,
   "metadata": {
    "scrolled": false
   },
   "outputs": [
    {
     "name": "stdout",
     "output_type": "stream",
     "text": [
      "Final Estimation Results:\n",
      "\n",
      "           Posterior Mean  Posterior Std. Dev.\n",
      "Parameter                                     \n",
      "1               -0.130627             0.086259\n",
      "2                1.870010             0.115560\n",
      "3               16.224146             3.110913\n",
      "4                2.295653             0.406562\n"
     ]
    }
   ],
   "source": [
    "# Process the Sampler Output\n",
    "samples = sampler.process_samples(burn_in = 1500)\n",
    "\n",
    "# Calculate the Posterior Mean\n",
    "pos_mean = samples[:, :posterior.num_param].mean(axis = 0)\n",
    "\n",
    "# Calculate the Posterior Standard Deviation\n",
    "pos_std = samples[:, :posterior.num_param].std(axis = 0)\n",
    "\n",
    "# Construct a Result Table\n",
    "result_table = pd.DataFrame(np.array([pos_mean, pos_std]).transpose(), columns = ['Posterior Mean', 'Posterior Std. Dev.'])\n",
    "result_table.index.name = 'Parameter'\n",
    "result_table.index += 1\n",
    "\n",
    "# Display the Result Table\n",
    "print('Final Estimation Results:')\n",
    "print('')\n",
    "print(result_table)"
   ]
  },
  {
   "cell_type": "markdown",
   "metadata": {},
   "source": [
    "## 2.2. Free Parameter Set WP"
   ]
  },
  {
   "cell_type": "markdown",
   "metadata": {},
   "source": [
    "### Model Specification"
   ]
  },
  {
   "cell_type": "code",
   "execution_count": 5,
   "metadata": {},
   "outputs": [],
   "source": [
    "# Specify the Simulated Data Characteristics\n",
    "T_emp = 1000    # Pseudo-empirical series length \n",
    "T_sim = 1000    # Length of each Monte Carlo replication\n",
    "n = 100         # Number of Monte Carlo replications\n",
    "\n",
    "# Specify the Pseudo-Empirical Data\n",
    "empirical = np.diff(alenn.models.fw_wp(0.01, 1, 1, 0.9, 2.1, 2668, 0.987, 0.752, 1.726, 0, T_emp, 1, 1), axis = 0)[:, 0]\n",
    "\n",
    "# Define the Candidate Model Function\n",
    "def model(theta):\n",
    "    return np.diff(alenn.models.fw_wp(0.01, 1, 1, 0.9, 2.1, theta[0], theta[1], 0.752, theta[2], 0, T_sim, n, 7), axis = 0)\n",
    "\n",
    "# Define Parameter Priors\n",
    "priors = [stats.uniform(loc = 0, scale = 15000).pdf,\n",
    "          stats.uniform(loc = 0, scale = 1).pdf,\n",
    "          stats.uniform(loc = 0, scale = 5).pdf]\n",
    "\n",
    "# Define the Parameter Bounds\n",
    "theta_lower = np.array([0, 0, 0])\n",
    "theta_upper = np.array([15000, 1, 5])"
   ]
  },
  {
   "cell_type": "markdown",
   "metadata": {},
   "source": [
    "### Posterior Specification"
   ]
  },
  {
   "cell_type": "code",
   "execution_count": 6,
   "metadata": {
    "scrolled": true
   },
   "outputs": [
    {
     "name": "stdout",
     "output_type": "stream",
     "text": [
      "------------------------------------------\n",
      "Successfully created a new KDE object:\n",
      "------------------------------------------\n",
      "\n",
      "Using a Silverman bandwidth approximation.\n",
      "------------------------------------------\n",
      "\n",
      "Model function successfully set.\n",
      "----------------------------------------------------------------------------\n",
      "\n",
      "Model prior successfully set. The model has 3 free parameters.\n",
      "----------------------------------------------------------------------------\n",
      "\n",
      "Empirical data successfully loaded. There are 1000 observations in total.\n",
      "----------------------------------------------------------------------------\n",
      "\n"
     ]
    }
   ],
   "source": [
    "# Create a KDE Posterior Approximator Object (Uses Default Settings from the Paper)\n",
    "posterior = alenn.kde.KDEPosterior()\n",
    "\n",
    "# Add the Model, Priors, and Empirical Data to the Newly-created Object\n",
    "posterior.set_model(model)\n",
    "posterior.set_prior(priors)\n",
    "posterior.load_data(empirical)"
   ]
  },
  {
   "cell_type": "markdown",
   "metadata": {},
   "source": [
    "### Sampler Specification"
   ]
  },
  {
   "cell_type": "code",
   "execution_count": 7,
   "metadata": {
    "scrolled": false
   },
   "outputs": [
    {
     "name": "stdout",
     "output_type": "stream",
     "text": [
      "-----------------------------------------------\n",
      "Successfully created a new MCMC sampler object:\n",
      "-----------------------------------------------\n",
      "Number of sample sets:         5000                \n",
      "Number of samples per set:     70                  \n",
      "-----------------------------------------------\n",
      "\n",
      "KDEPosterior object successfully loaded.\n",
      "----------------------------------------------------------------------------\n",
      "\n",
      "Initialisation ranges successfully set.\n",
      "\n",
      "           Lower Bound  Upper Bound\n",
      "Parameter                          \n",
      "1                    0        15000\n",
      "2                    0            1\n",
      "3                    0            5\n",
      "----------------------------------------------------------------------------\n",
      "\n"
     ]
    }
   ],
   "source": [
    "# Create an Adaptive MCMC Sampler Object\n",
    "sampler = alenn.mcmc.AdaptiveMCMC(K = 70, S = 5000)\n",
    "\n",
    "# Add the Posterior Approximator and Parameter Ranges to the Newly-created Object\n",
    "sampler.set_posterior(posterior)\n",
    "sampler.set_initialisation_ranges(theta_lower, theta_upper)\n",
    "\n",
    "# Initiate the Sampling Process\n",
    "sampler.sample_posterior()"
   ]
  },
  {
   "cell_type": "markdown",
   "metadata": {},
   "source": [
    "### Result Processing"
   ]
  },
  {
   "cell_type": "code",
   "execution_count": 5,
   "metadata": {
    "scrolled": false
   },
   "outputs": [
    {
     "name": "stdout",
     "output_type": "stream",
     "text": [
      "Final Estimation Results:\n",
      "\n",
      "           Posterior Mean  Posterior Std. Dev.\n",
      "Parameter                                     \n",
      "1             2286.509994          2596.313394\n",
      "2                0.610277             0.280591\n",
      "3                1.389007             0.136704\n"
     ]
    }
   ],
   "source": [
    "# Process the Sampler Output\n",
    "samples = sampler.process_samples(burn_in = 1500)\n",
    "\n",
    "# Calculate the Posterior Mean\n",
    "pos_mean = samples[:, :posterior.num_param].mean(axis = 0)\n",
    "\n",
    "# Calculate the Posterior Standard Deviation\n",
    "pos_std = samples[:, :posterior.num_param].std(axis = 0)\n",
    "\n",
    "# Construct a Result Table\n",
    "result_table = pd.DataFrame(np.array([pos_mean, pos_std]).transpose(), columns = ['Posterior Mean', 'Posterior Std. Dev.'])\n",
    "result_table.index.name = 'Parameter'\n",
    "result_table.index += 1\n",
    "\n",
    "# Display the Result Table\n",
    "print('Final Estimation Results:')\n",
    "print('')\n",
    "print(result_table)"
   ]
  }
 ],
 "metadata": {
  "kernelspec": {
   "display_name": "Python 3",
   "language": "python",
   "name": "python3"
  },
  "language_info": {
   "codemirror_mode": {
    "name": "ipython",
    "version": 3
   },
   "file_extension": ".py",
   "mimetype": "text/x-python",
   "name": "python",
   "nbconvert_exporter": "python",
   "pygments_lexer": "ipython3",
   "version": "3.7.9"
  }
 },
 "nbformat": 4,
 "nbformat_minor": 4
}
