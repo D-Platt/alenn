{
 "cells": [
  {
   "cell_type": "markdown",
   "metadata": {},
   "source": [
    "# ALENN - Replication Notebook \n",
    "## Brock and Hommes (1998) Model, MDN\n",
    "\n",
    "Donovan Platt\n",
    "<br>\n",
    "Mathematical Institute, University of Oxford\n",
    "<br>\n",
    "Institute for New Economic Thinking at the Oxford Martin School\n",
    "<br>\n",
    "<br>\n",
    "Copyright (c) 2020, University of Oxford. All rights reserved.\n",
    "<br>\n",
    "Distributed under a BSD 3-Clause licence. See the accompanying LICENCE file for further details."
   ]
  },
  {
   "cell_type": "markdown",
   "metadata": {},
   "source": [
    "# 1. Modules and Packages\n",
    "Load all required modules and packages."
   ]
  },
  {
   "cell_type": "code",
   "execution_count": 1,
   "metadata": {},
   "outputs": [
    {
     "name": "stderr",
     "output_type": "stream",
     "text": [
      "Using TensorFlow backend.\n"
     ]
    }
   ],
   "source": [
    "# Import the ALENN ABM Estimation Package\n",
    "import alenn\n",
    "\n",
    "# Import Numerical Computation Libraries\n",
    "import numpy as np\n",
    "import pandas as pd\n",
    "\n",
    "# Import General Mathematical Libraries\n",
    "from scipy import stats\n",
    "\n",
    "# Import System Libraries\n",
    "import os\n",
    "import logging"
   ]
  },
  {
   "cell_type": "code",
   "execution_count": 2,
   "metadata": {},
   "outputs": [],
   "source": [
    "# Disable Tensorflow Deprecation Warnings\n",
    "logging.disable(logging.WARNING)\n",
    "os.environ[\"TF_CPP_MIN_LOG_LEVEL\"] = \"3\"\n",
    "\n",
    "# Tensorflow 2.x deprecates many Tensorflow 1.x methods, causing Tensorflow 1.15.0 to output a large number \n",
    "# of deprecation warnings when performing the first likelihood calculation. This can be very distracting,\n",
    "# leading us to disable them."
   ]
  },
  {
   "cell_type": "markdown",
   "metadata": {},
   "source": [
    "# 2. Estimation Experiments\n",
    "Replication of the MDN experiments. Note that here we generate only a single Markov Chain as opposed to the 5 considered in the original paper."
   ]
  },
  {
   "cell_type": "markdown",
   "metadata": {},
   "source": [
    "## 2.1. Free Parameter Set 1"
   ]
  },
  {
   "cell_type": "markdown",
   "metadata": {},
   "source": [
    "### Model Specification"
   ]
  },
  {
   "cell_type": "code",
   "execution_count": 3,
   "metadata": {},
   "outputs": [],
   "source": [
    "# Specify the Simulated Data Characteristics\n",
    "T_emp = 1000    # Pseudo-empirical series length \n",
    "T_sim = 1000    # Length of each Monte Carlo replication\n",
    "n = 100         # Number of Monte Carlo replications\n",
    "\n",
    "# Specify the Pseudo-Empirical Data\n",
    "empirical = alenn.models.brock_hommes(0, 0, -0.7, -0.4, 0.5, 0.3, 1.01, 0, 0.01, 10, 0.04, 10, T_emp, n, 1)[:, 0]\n",
    "\n",
    "# Define the Candidate Model Function\n",
    "def model(theta):\n",
    "    return alenn.models.brock_hommes(0, 0, theta[0], theta[1], theta[2], theta[3], 1.01, 0, 0.01, 10, 0.04, 10, T_sim, n, 7)\n",
    "\n",
    "# Define Parameter Priors\n",
    "priors = [stats.uniform(loc = -2.5, scale = 2.5).pdf,\n",
    "          stats.uniform(loc = -1.5, scale = 1.5).pdf,\n",
    "          stats.uniform(loc = 0, scale = 2.5).pdf,\n",
    "          stats.uniform(loc = 0, scale = 1.5).pdf]\n",
    "\n",
    "# Define the Parameter Bounds\n",
    "theta_lower = np.array([-2.5, -1.5, 0, 0])\n",
    "theta_upper = np.array([0, 0, 2.5, 1.5])"
   ]
  },
  {
   "cell_type": "markdown",
   "metadata": {},
   "source": [
    "### Posterior Specification"
   ]
  },
  {
   "cell_type": "code",
   "execution_count": 4,
   "metadata": {},
   "outputs": [
    {
     "name": "stdout",
     "output_type": "stream",
     "text": [
      "--------------------------------------\n",
      "Successfully created a new MDN object:\n",
      "--------------------------------------\n",
      "Number of lags:                3                   \n",
      "Number of mixture components:  16                  \n",
      "Number of neurons per layer:   32                  \n",
      "Number of hidden layers:       3                   \n",
      "Batch size:                    512                 \n",
      "Number of epochs:              12                  \n",
      "Activation function:           relu                \n",
      "Input noise:                   0.2                 \n",
      "Output noise:                  0.2                 \n",
      "--------------------------------------\n",
      "\n",
      "Model function successfully set.\n",
      "----------------------------------------------------------------------------\n",
      "\n",
      "Model prior successfully set. The model has 4 free parameters.\n",
      "----------------------------------------------------------------------------\n",
      "\n",
      "Empirical data successfully loaded. There are 1000 observations in total.\n",
      "----------------------------------------------------------------------------\n",
      "\n"
     ]
    }
   ],
   "source": [
    "# Create an MDN Posterior Approximator Object (Uses Default Settings from the Paper)\n",
    "posterior = alenn.mdn.MDNPosterior()\n",
    "\n",
    "# Add the Model, Priors, and Empirical Data to the Newly-created Object\n",
    "posterior.set_model(model)\n",
    "posterior.set_prior(priors)\n",
    "posterior.load_data(empirical)"
   ]
  },
  {
   "cell_type": "markdown",
   "metadata": {},
   "source": [
    "### Sampler Specification"
   ]
  },
  {
   "cell_type": "code",
   "execution_count": 5,
   "metadata": {},
   "outputs": [
    {
     "name": "stdout",
     "output_type": "stream",
     "text": [
      "-----------------------------------------------\n",
      "Successfully created a new MCMC sampler object:\n",
      "-----------------------------------------------\n",
      "Number of sample sets:         10000               \n",
      "Number of samples per set:     70                  \n",
      "-----------------------------------------------\n",
      "\n",
      "MDNPosterior object successfully loaded.\n",
      "----------------------------------------------------------------------------\n",
      "\n",
      "Initialisation ranges successfully set.\n",
      "\n",
      "           Lower Bound  Upper Bound\n",
      "Parameter                          \n",
      "1                 -2.5          0.0\n",
      "2                 -1.5          0.0\n",
      "3                  0.0          2.5\n",
      "4                  0.0          1.5\n",
      "----------------------------------------------------------------------------\n",
      "\n"
     ]
    }
   ],
   "source": [
    "# Create an Adaptive MCMC Sampler Object\n",
    "sampler = alenn.mcmc.AdaptiveMCMC(K = 70, S = 10000)\n",
    "\n",
    "# Add the Posterior Approximator and Parameter Ranges to the Newly-created Object\n",
    "sampler.set_posterior(posterior)\n",
    "sampler.set_initialisation_ranges(theta_lower, theta_upper)\n",
    "\n",
    "# Initiate the Sampling Process\n",
    "sampler.sample_posterior()"
   ]
  },
  {
   "cell_type": "markdown",
   "metadata": {},
   "source": [
    "### Result Processing"
   ]
  },
  {
   "cell_type": "code",
   "execution_count": 14,
   "metadata": {},
   "outputs": [
    {
     "name": "stdout",
     "output_type": "stream",
     "text": [
      "Final Estimation Results:\n",
      "\n",
      "           Posterior Mean  Posterior Std. Dev.\n",
      "Parameter                                     \n",
      "1               -0.727035             0.185455\n",
      "2               -0.405627             0.010080\n",
      "3                0.585974             0.197566\n",
      "4                0.317112             0.009391\n"
     ]
    }
   ],
   "source": [
    "# Process the Sampler Output\n",
    "samples = sampler.process_samples(burn_in = 5000)\n",
    "\n",
    "# Calculate the Posterior Mean\n",
    "pos_mean = samples[:, :posterior.num_param].mean(axis = 0)\n",
    "\n",
    "# Calculate the Posterior Standard Deviation\n",
    "pos_std = samples[:, :posterior.num_param].std(axis = 0)\n",
    "\n",
    "# Construct a Result Table\n",
    "result_table = pd.DataFrame(np.array([pos_mean, pos_std]).transpose(), columns = ['Posterior Mean', 'Posterior Std. Dev.'])\n",
    "result_table.index.name = 'Parameter'\n",
    "result_table.index += 1\n",
    "\n",
    "# Display the Result Table\n",
    "print('Final Estimation Results:')\n",
    "print('')\n",
    "print(result_table)"
   ]
  },
  {
   "cell_type": "markdown",
   "metadata": {},
   "source": [
    "## 2.2. Free Parameter Set 2"
   ]
  },
  {
   "cell_type": "markdown",
   "metadata": {},
   "source": [
    "### Model Specification"
   ]
  },
  {
   "cell_type": "code",
   "execution_count": 6,
   "metadata": {},
   "outputs": [],
   "source": [
    "# Specify the Simulated Data Characteristics\n",
    "T_emp = 1000    # Pseudo-empirical series length \n",
    "T_sim = 1000    # Length of each Monte Carlo replication\n",
    "n = 100         # Number of Monte Carlo replications\n",
    "\n",
    "# Specify the Pseudo-Empirical Data\n",
    "empirical = alenn.models.brock_hommes(0, 0, 0.6, 0.65, 0.7, -0.55, 1.01, 0, 0.01, 10, 0.04, 10, T_emp, n, 1)[:, 0]\n",
    "\n",
    "# Define the Candidate Model Function\n",
    "def model(theta):\n",
    "    return alenn.models.brock_hommes(0, 0, theta[0], theta[1], theta[2], theta[3], 1.01, 0, 0.01, 10, 0.04, 10, T_sim, n, 7)\n",
    "\n",
    "# Define Parameter Priors\n",
    "priors = [stats.uniform(loc = 0, scale = 2.5).pdf,\n",
    "          stats.uniform(loc = 0, scale = 1.5).pdf,\n",
    "          stats.uniform(loc = 0, scale = 2.5).pdf,\n",
    "          stats.uniform(loc = -1.5, scale = 1.5).pdf]\n",
    "\n",
    "# Define the Parameter Bounds\n",
    "theta_lower = np.array([0, 0, 0, -1.5])\n",
    "theta_upper = np.array([2.5, 1.5, 2.5, 0])"
   ]
  },
  {
   "cell_type": "markdown",
   "metadata": {},
   "source": [
    "### Posterior Specification"
   ]
  },
  {
   "cell_type": "code",
   "execution_count": 7,
   "metadata": {},
   "outputs": [
    {
     "name": "stdout",
     "output_type": "stream",
     "text": [
      "--------------------------------------\n",
      "Successfully created a new MDN object:\n",
      "--------------------------------------\n",
      "Number of lags:                3                   \n",
      "Number of mixture components:  16                  \n",
      "Number of neurons per layer:   32                  \n",
      "Number of hidden layers:       3                   \n",
      "Batch size:                    512                 \n",
      "Number of epochs:              12                  \n",
      "Activation function:           relu                \n",
      "Input noise:                   0.2                 \n",
      "Output noise:                  0.2                 \n",
      "--------------------------------------\n",
      "\n",
      "Model function successfully set.\n",
      "----------------------------------------------------------------------------\n",
      "\n",
      "Model prior successfully set. The model has 4 free parameters.\n",
      "----------------------------------------------------------------------------\n",
      "\n",
      "Empirical data successfully loaded. There are 1000 observations in total.\n",
      "----------------------------------------------------------------------------\n",
      "\n"
     ]
    }
   ],
   "source": [
    "# Create an MDN Posterior Approximator Object (Uses Default Settings from the Paper)\n",
    "posterior = alenn.mdn.MDNPosterior()\n",
    "\n",
    "# Add the Model, Priors, and Empirical Data to the Newly-created Object\n",
    "posterior.set_model(model)\n",
    "posterior.set_prior(priors)\n",
    "posterior.load_data(empirical)"
   ]
  },
  {
   "cell_type": "markdown",
   "metadata": {},
   "source": [
    "### Sampler Specification"
   ]
  },
  {
   "cell_type": "code",
   "execution_count": 8,
   "metadata": {},
   "outputs": [
    {
     "name": "stdout",
     "output_type": "stream",
     "text": [
      "-----------------------------------------------\n",
      "Successfully created a new MCMC sampler object:\n",
      "-----------------------------------------------\n",
      "Number of sample sets:         10000               \n",
      "Number of samples per set:     70                  \n",
      "-----------------------------------------------\n",
      "\n",
      "MDNPosterior object successfully loaded.\n",
      "----------------------------------------------------------------------------\n",
      "\n",
      "Initialisation ranges successfully set.\n",
      "\n",
      "           Lower Bound  Upper Bound\n",
      "Parameter                          \n",
      "1                  0.0          2.5\n",
      "2                  0.0          1.5\n",
      "3                  0.0          2.5\n",
      "4                 -1.5          0.0\n",
      "----------------------------------------------------------------------------\n",
      "\n"
     ]
    }
   ],
   "source": [
    "# Create an Adaptive MCMC Sampler Object\n",
    "sampler = alenn.mcmc.AdaptiveMCMC(K = 70, S = 10000)\n",
    "\n",
    "# Add the Posterior Approximator and Parameter Ranges to the Newly-created Object\n",
    "sampler.set_posterior(posterior)\n",
    "sampler.set_initialisation_ranges(theta_lower, theta_upper)\n",
    "\n",
    "# Initiate the Sampling Process\n",
    "sampler.sample_posterior()"
   ]
  },
  {
   "cell_type": "markdown",
   "metadata": {},
   "source": [
    "### Result Processing"
   ]
  },
  {
   "cell_type": "code",
   "execution_count": 19,
   "metadata": {},
   "outputs": [
    {
     "name": "stdout",
     "output_type": "stream",
     "text": [
      "Final Estimation Results:\n",
      "\n",
      "           Posterior Mean  Posterior Std. Dev.\n",
      "Parameter                                     \n",
      "1                0.578004             0.018663\n",
      "2                0.645939             0.006415\n",
      "3                0.749964             0.016154\n",
      "4               -0.513151             0.004915\n"
     ]
    }
   ],
   "source": [
    "# Process the Sampler Output\n",
    "samples = sampler.process_samples(burn_in = 5000)\n",
    "\n",
    "# Calculate the Posterior Mean\n",
    "pos_mean = samples[:, :posterior.num_param].mean(axis = 0)\n",
    "\n",
    "# Calculate the Posterior Standard Deviation\n",
    "pos_std = samples[:, :posterior.num_param].std(axis = 0)\n",
    "\n",
    "# Construct a Result Table\n",
    "result_table = pd.DataFrame(np.array([pos_mean, pos_std]).transpose(), columns = ['Posterior Mean', 'Posterior Std. Dev.'])\n",
    "result_table.index.name = 'Parameter'\n",
    "result_table.index += 1\n",
    "\n",
    "# Display the Result Table\n",
    "print('Final Estimation Results:')\n",
    "print('')\n",
    "print(result_table)"
   ]
  }
 ],
 "metadata": {
  "kernelspec": {
   "display_name": "Python 3",
   "language": "python",
   "name": "python3"
  },
  "language_info": {
   "codemirror_mode": {
    "name": "ipython",
    "version": 3
   },
   "file_extension": ".py",
   "mimetype": "text/x-python",
   "name": "python",
   "nbconvert_exporter": "python",
   "pygments_lexer": "ipython3",
   "version": "3.7.9"
  }
 },
 "nbformat": 4,
 "nbformat_minor": 4
}
