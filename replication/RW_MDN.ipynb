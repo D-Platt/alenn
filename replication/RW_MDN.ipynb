{
 "cells": [
  {
   "cell_type": "markdown",
   "metadata": {},
   "source": [
    "# ALENN - Replication Notebook \n",
    "## Random Walk Model, MDN\n",
    "\n",
    "Donovan Platt\n",
    "<br>\n",
    "Mathematical Institute, University of Oxford\n",
    "<br>\n",
    "Institute for New Economic Thinking at the Oxford Martin School\n",
    "<br>\n",
    "<br>\n",
    "Copyright (c) 2020, University of Oxford. All rights reserved.\n",
    "<br>\n",
    "Distributed under a BSD 3-Clause licence. See the accompanying LICENCE file for further details."
   ]
  },
  {
   "cell_type": "markdown",
   "metadata": {},
   "source": [
    "# 1. Modules and Packages\n",
    "Load all required modules and packages."
   ]
  },
  {
   "cell_type": "code",
   "execution_count": 1,
   "metadata": {},
   "outputs": [
    {
     "name": "stderr",
     "output_type": "stream",
     "text": [
      "Using TensorFlow backend.\n"
     ]
    }
   ],
   "source": [
    "# Import the ALENN ABM Estimation Package\n",
    "import alenn\n",
    "\n",
    "# Import Numerical Computation Libraries\n",
    "import numpy as np\n",
    "import pandas as pd\n",
    "\n",
    "# Import General Mathematical Libraries\n",
    "from scipy import stats\n",
    "\n",
    "# Import System Libraries\n",
    "import os\n",
    "import logging"
   ]
  },
  {
   "cell_type": "code",
   "execution_count": 2,
   "metadata": {},
   "outputs": [],
   "source": [
    "# Disable Tensorflow Deprecation Warnings\n",
    "logging.disable(logging.WARNING)\n",
    "os.environ[\"TF_CPP_MIN_LOG_LEVEL\"] = \"3\"\n",
    "\n",
    "# Tensorflow 2.x deprecates many Tensorflow 1.x methods, causing Tensorflow 1.15.0 to output a large number \n",
    "# of deprecation warnings when performing the first likelihood calculation. This can be very distracting,\n",
    "# leading us to disable them."
   ]
  },
  {
   "cell_type": "markdown",
   "metadata": {},
   "source": [
    "# 2. Estimation Experiments\n",
    "Replication of the MDN experiments. Note that here we generate only a single Markov Chain as opposed to the 5 considered in the original paper."
   ]
  },
  {
   "cell_type": "markdown",
   "metadata": {},
   "source": [
    "## 2.1. Free Parameter Set 1"
   ]
  },
  {
   "cell_type": "markdown",
   "metadata": {},
   "source": [
    "### Model Specification"
   ]
  },
  {
   "cell_type": "code",
   "execution_count": 12,
   "metadata": {},
   "outputs": [],
   "source": [
    "# Specify the Simulated Data Characteristics\n",
    "T_emp = 1000    # Pseudo-empirical series length \n",
    "T_sim = 1000    # Length of each Monte Carlo replication\n",
    "n = 100         # Number of Monte Carlo replications\n",
    "\n",
    "# Specify the Pseudo-Empirical Data\n",
    "empirical = np.diff(alenn.models.random_walk(700, 0.4, 0.5, 1, 2, T_emp, 1, 1), axis = 0)[:, 0]\n",
    "\n",
    "# Define the Candidate Model Function\n",
    "def model(theta):\n",
    "    return np.diff(alenn.models.random_walk(700, 0.4, 0.5, theta[0], theta[1], T_sim, n, 7), axis = 0)\n",
    "\n",
    "# Define Parameter Priors\n",
    "priors = [stats.uniform(loc = 0, scale = 10).pdf,\n",
    "          stats.uniform(loc = 0, scale = 10).pdf]\n",
    "\n",
    "# Define the Parameter Bounds\n",
    "theta_lower = np.array([0, 0])\n",
    "theta_upper = np.array([10, 10])"
   ]
  },
  {
   "cell_type": "markdown",
   "metadata": {},
   "source": [
    "### Posterior Specification"
   ]
  },
  {
   "cell_type": "code",
   "execution_count": 4,
   "metadata": {},
   "outputs": [
    {
     "name": "stdout",
     "output_type": "stream",
     "text": [
      "--------------------------------------\n",
      "Successfully created a new MDN object:\n",
      "--------------------------------------\n",
      "Number of lags:                3                   \n",
      "Number of mixture components:  16                  \n",
      "Number of neurons per layer:   32                  \n",
      "Number of hidden layers:       3                   \n",
      "Batch size:                    512                 \n",
      "Number of epochs:              12                  \n",
      "Activation function:           relu                \n",
      "Input noise:                   0.2                 \n",
      "Output noise:                  0.2                 \n",
      "--------------------------------------\n",
      "\n",
      "Model function successfully set.\n",
      "----------------------------------------------------------------------------\n",
      "\n",
      "Model prior successfully set. The model has 2 free parameters.\n",
      "----------------------------------------------------------------------------\n",
      "\n",
      "Empirical data successfully loaded. There are 999 observations in total.\n",
      "----------------------------------------------------------------------------\n",
      "\n"
     ]
    }
   ],
   "source": [
    "# Create an MDN Posterior Approximator Object (Uses Default Settings from the Paper)\n",
    "posterior = alenn.mdn.MDNPosterior()\n",
    "\n",
    "# Add the Model, Priors, and Empirical Data to the Newly-created Object\n",
    "posterior.set_model(model)\n",
    "posterior.set_prior(priors)\n",
    "posterior.load_data(empirical)"
   ]
  },
  {
   "cell_type": "markdown",
   "metadata": {},
   "source": [
    "### Sampler Specification"
   ]
  },
  {
   "cell_type": "code",
   "execution_count": 13,
   "metadata": {},
   "outputs": [
    {
     "name": "stdout",
     "output_type": "stream",
     "text": [
      "-----------------------------------------------\n",
      "Successfully created a new MCMC sampler object:\n",
      "-----------------------------------------------\n",
      "Number of sample sets:         5000                \n",
      "Number of samples per set:     70                  \n",
      "-----------------------------------------------\n",
      "\n",
      "MDNPosterior object successfully loaded.\n",
      "----------------------------------------------------------------------------\n",
      "\n",
      "Initialisation ranges successfully set.\n",
      "\n",
      "           Lower Bound  Upper Bound\n",
      "Parameter                          \n",
      "1                    0           10\n",
      "2                    0           10\n",
      "----------------------------------------------------------------------------\n",
      "\n"
     ]
    }
   ],
   "source": [
    "# Create an Adaptive MCMC Sampler Object\n",
    "sampler = alenn.mcmc.AdaptiveMCMC(K = 70, S = 5000)\n",
    "\n",
    "# Add the Posterior Approximator and Parameter Ranges to the Newly-created Object\n",
    "sampler.set_posterior(posterior)\n",
    "sampler.set_initialisation_ranges(theta_lower, theta_upper)\n",
    "\n",
    "# Initiate the Sampling Process\n",
    "sampler.sample_posterior()"
   ]
  },
  {
   "cell_type": "markdown",
   "metadata": {},
   "source": [
    "### Result Processing"
   ]
  },
  {
   "cell_type": "code",
   "execution_count": 6,
   "metadata": {},
   "outputs": [
    {
     "name": "stdout",
     "output_type": "stream",
     "text": [
      "Final Estimation Results:\n",
      "\n",
      "           Posterior Mean  Posterior Std. Dev.\n",
      "Parameter                                     \n",
      "1                0.946336             0.034519\n",
      "2                1.950764             0.097562\n"
     ]
    }
   ],
   "source": [
    "# Process the Sampler Output\n",
    "samples = sampler.process_samples(burn_in = 1500)\n",
    "\n",
    "# Calculate the Posterior Mean\n",
    "pos_mean = samples[:, :posterior.num_param].mean(axis = 0)\n",
    "\n",
    "# Calculate the Posterior Standard Deviation\n",
    "pos_std = samples[:, :posterior.num_param].std(axis = 0)\n",
    "\n",
    "# Construct a Result Table\n",
    "result_table = pd.DataFrame(np.array([pos_mean, pos_std]).transpose(), columns = ['Posterior Mean', 'Posterior Std. Dev.'])\n",
    "result_table.index.name = 'Parameter'\n",
    "result_table.index += 1\n",
    "\n",
    "# Display the Result Table\n",
    "print('Final Estimation Results:')\n",
    "print('')\n",
    "print(result_table)"
   ]
  },
  {
   "cell_type": "markdown",
   "metadata": {},
   "source": [
    "## 2.2. Free Parameter Set 2"
   ]
  },
  {
   "cell_type": "markdown",
   "metadata": {},
   "source": [
    "### Model Specification"
   ]
  },
  {
   "cell_type": "code",
   "execution_count": 14,
   "metadata": {},
   "outputs": [],
   "source": [
    "# Specify the Simulated Data Characteristics\n",
    "T_emp = 1000    # Pseudo-empirical series length \n",
    "T_sim = 1000    # Length of each Monte Carlo replication\n",
    "n = 100         # Number of Monte Carlo replications\n",
    "\n",
    "# Specify the Pseudo-Empirical Data\n",
    "empirical = np.diff(alenn.models.random_walk(700, 0.1, 0.2, 1, 2, T_emp, 1, 1), axis = 0)[:, 0]\n",
    "\n",
    "# Define the Candidate Model Function\n",
    "def model(theta):\n",
    "    return np.diff(alenn.models.random_walk(700, 0.1, 0.2, theta[0], theta[1], T_sim, n, 7), axis = 0)\n",
    "\n",
    "# Define Parameter Priors\n",
    "priors = [stats.uniform(loc = 0, scale = 10).pdf,\n",
    "          stats.uniform(loc = 0, scale = 10).pdf]\n",
    "\n",
    "# Define the Parameter Bounds\n",
    "theta_lower = np.array([0, 0])\n",
    "theta_upper = np.array([10, 10])"
   ]
  },
  {
   "cell_type": "markdown",
   "metadata": {},
   "source": [
    "### Posterior Specification"
   ]
  },
  {
   "cell_type": "code",
   "execution_count": 4,
   "metadata": {},
   "outputs": [
    {
     "name": "stdout",
     "output_type": "stream",
     "text": [
      "--------------------------------------\n",
      "Successfully created a new MDN object:\n",
      "--------------------------------------\n",
      "Number of lags:                3                   \n",
      "Number of mixture components:  16                  \n",
      "Number of neurons per layer:   32                  \n",
      "Number of hidden layers:       3                   \n",
      "Batch size:                    512                 \n",
      "Number of epochs:              12                  \n",
      "Activation function:           relu                \n",
      "Input noise:                   0.2                 \n",
      "Output noise:                  0.2                 \n",
      "--------------------------------------\n",
      "\n",
      "Model function successfully set.\n",
      "----------------------------------------------------------------------------\n",
      "\n",
      "Model prior successfully set. The model has 2 free parameters.\n",
      "----------------------------------------------------------------------------\n",
      "\n",
      "Empirical data successfully loaded. There are 999 observations in total.\n",
      "----------------------------------------------------------------------------\n",
      "\n"
     ]
    }
   ],
   "source": [
    "# Create an MDN Posterior Approximator Object (Uses Default Settings from the Paper)\n",
    "posterior = alenn.mdn.MDNPosterior()\n",
    "\n",
    "# Add the Model, Priors, and Empirical Data to the Newly-created Object\n",
    "posterior.set_model(model)\n",
    "posterior.set_prior(priors)\n",
    "posterior.load_data(empirical)"
   ]
  },
  {
   "cell_type": "markdown",
   "metadata": {},
   "source": [
    "### Sampler Specification"
   ]
  },
  {
   "cell_type": "code",
   "execution_count": 15,
   "metadata": {},
   "outputs": [
    {
     "name": "stdout",
     "output_type": "stream",
     "text": [
      "-----------------------------------------------\n",
      "Successfully created a new MCMC sampler object:\n",
      "-----------------------------------------------\n",
      "Number of sample sets:         5000                \n",
      "Number of samples per set:     70                  \n",
      "-----------------------------------------------\n",
      "\n",
      "MDNPosterior object successfully loaded.\n",
      "----------------------------------------------------------------------------\n",
      "\n",
      "Initialisation ranges successfully set.\n",
      "\n",
      "           Lower Bound  Upper Bound\n",
      "Parameter                          \n",
      "1                    0           10\n",
      "2                    0           10\n",
      "----------------------------------------------------------------------------\n",
      "\n"
     ]
    }
   ],
   "source": [
    "# Create an Adaptive MCMC Sampler Object\n",
    "sampler = alenn.mcmc.AdaptiveMCMC(K = 70, S = 5000)\n",
    "\n",
    "# Add the Posterior Approximator and Parameter Ranges to the Newly-created Object\n",
    "sampler.set_posterior(posterior)\n",
    "sampler.set_initialisation_ranges(theta_lower, theta_upper)\n",
    "\n",
    "# Initiate the Sampling Process\n",
    "sampler.sample_posterior()"
   ]
  },
  {
   "cell_type": "markdown",
   "metadata": {},
   "source": [
    "### Result Processing"
   ]
  },
  {
   "cell_type": "code",
   "execution_count": 6,
   "metadata": {},
   "outputs": [
    {
     "name": "stdout",
     "output_type": "stream",
     "text": [
      "Final Estimation Results:\n",
      "\n",
      "           Posterior Mean  Posterior Std. Dev.\n",
      "Parameter                                     \n",
      "1                0.945404             0.039242\n",
      "2                1.946920             0.109503\n"
     ]
    }
   ],
   "source": [
    "# Process the Sampler Output\n",
    "samples = sampler.process_samples(burn_in = 1500)\n",
    "\n",
    "# Calculate the Posterior Mean\n",
    "pos_mean = samples[:, :posterior.num_param].mean(axis = 0)\n",
    "\n",
    "# Calculate the Posterior Standard Deviation\n",
    "pos_std = samples[:, :posterior.num_param].std(axis = 0)\n",
    "\n",
    "# Construct a Result Table\n",
    "result_table = pd.DataFrame(np.array([pos_mean, pos_std]).transpose(), columns = ['Posterior Mean', 'Posterior Std. Dev.'])\n",
    "result_table.index.name = 'Parameter'\n",
    "result_table.index += 1\n",
    "\n",
    "# Display the Result Table\n",
    "print('Final Estimation Results:')\n",
    "print('')\n",
    "print(result_table)"
   ]
  },
  {
   "cell_type": "markdown",
   "metadata": {},
   "source": [
    "## 2.3. Free Parameter Set 3"
   ]
  },
  {
   "cell_type": "markdown",
   "metadata": {},
   "source": [
    "### Model Specification"
   ]
  },
  {
   "cell_type": "code",
   "execution_count": 4,
   "metadata": {},
   "outputs": [],
   "source": [
    "# Specify the Simulated Data Characteristics\n",
    "T_emp = 1000    # Pseudo-empirical series length \n",
    "T_sim = 1000    # Length of each Monte Carlo replication\n",
    "n = 100         # Number of Monte Carlo replications\n",
    "\n",
    "# Specify the Pseudo-Empirical Data\n",
    "empirical = np.diff(alenn.models.random_walk(700, 0.4, 0.5, 1, 2, T_emp, 1, 1), axis = 0)[:, 0]\n",
    "\n",
    "# Define the Candidate Model Function\n",
    "def model(theta):\n",
    "    return np.diff(alenn.models.random_walk(700, theta[0], theta[1], 1, 2, T_sim, n, 7), axis = 0)\n",
    "\n",
    "# Define Parameter Priors\n",
    "priors = [stats.uniform(loc = -2, scale = 4).pdf,\n",
    "          stats.uniform(loc = -2, scale = 4).pdf]\n",
    "\n",
    "# Define the Parameter Bounds\n",
    "theta_lower = np.array([-2, -2])\n",
    "theta_upper = np.array([2, 2])"
   ]
  },
  {
   "cell_type": "markdown",
   "metadata": {},
   "source": [
    "### Posterior Specification"
   ]
  },
  {
   "cell_type": "code",
   "execution_count": 5,
   "metadata": {},
   "outputs": [
    {
     "name": "stdout",
     "output_type": "stream",
     "text": [
      "--------------------------------------\n",
      "Successfully created a new MDN object:\n",
      "--------------------------------------\n",
      "Number of lags:                3                   \n",
      "Number of mixture components:  16                  \n",
      "Number of neurons per layer:   32                  \n",
      "Number of hidden layers:       3                   \n",
      "Batch size:                    512                 \n",
      "Number of epochs:              12                  \n",
      "Activation function:           relu                \n",
      "Input noise:                   0.2                 \n",
      "Output noise:                  0.2                 \n",
      "--------------------------------------\n",
      "\n",
      "Model function successfully set.\n",
      "----------------------------------------------------------------------------\n",
      "\n",
      "Model prior successfully set. The model has 2 free parameters.\n",
      "----------------------------------------------------------------------------\n",
      "\n",
      "Empirical data successfully loaded. There are 999 observations in total.\n",
      "----------------------------------------------------------------------------\n",
      "\n"
     ]
    }
   ],
   "source": [
    "# Create an MDN Posterior Approximator Object (Uses Default Settings from the Paper)\n",
    "posterior = alenn.mdn.MDNPosterior()\n",
    "\n",
    "# Add the Model, Priors, and Empirical Data to the Newly-created Object\n",
    "posterior.set_model(model)\n",
    "posterior.set_prior(priors)\n",
    "posterior.load_data(empirical)"
   ]
  },
  {
   "cell_type": "markdown",
   "metadata": {},
   "source": [
    "### Sampler Specification"
   ]
  },
  {
   "cell_type": "code",
   "execution_count": 6,
   "metadata": {},
   "outputs": [
    {
     "name": "stdout",
     "output_type": "stream",
     "text": [
      "-----------------------------------------------\n",
      "Successfully created a new MCMC sampler object:\n",
      "-----------------------------------------------\n",
      "Number of sample sets:         5000                \n",
      "Number of samples per set:     70                  \n",
      "-----------------------------------------------\n",
      "\n",
      "MDNPosterior object successfully loaded.\n",
      "----------------------------------------------------------------------------\n",
      "\n",
      "Initialisation ranges successfully set.\n",
      "\n",
      "           Lower Bound  Upper Bound\n",
      "Parameter                          \n",
      "1                   -2            2\n",
      "2                   -2            2\n",
      "----------------------------------------------------------------------------\n",
      "\n"
     ]
    }
   ],
   "source": [
    "# Create an Adaptive MCMC Sampler Object\n",
    "sampler = alenn.mcmc.AdaptiveMCMC(K = 70, S = 5000)\n",
    "\n",
    "# Add the Posterior Approximator and Parameter Ranges to the Newly-created Object\n",
    "sampler.set_posterior(posterior)\n",
    "sampler.set_initialisation_ranges(theta_lower, theta_upper)\n",
    "\n",
    "# Initiate the Sampling Process\n",
    "sampler.sample_posterior()"
   ]
  },
  {
   "cell_type": "markdown",
   "metadata": {},
   "source": [
    "### Result Processing"
   ]
  },
  {
   "cell_type": "code",
   "execution_count": 10,
   "metadata": {},
   "outputs": [
    {
     "name": "stdout",
     "output_type": "stream",
     "text": [
      "Final Estimation Results:\n",
      "\n",
      "           Posterior Mean  Posterior Std. Dev.\n",
      "Parameter                                     \n",
      "1                0.486288             0.038618\n",
      "2                0.544431             0.110380\n"
     ]
    }
   ],
   "source": [
    "# Process the Sampler Output\n",
    "samples = sampler.process_samples(burn_in = 1500)\n",
    "\n",
    "# Calculate the Posterior Mean\n",
    "pos_mean = samples[:, :posterior.num_param].mean(axis = 0)\n",
    "\n",
    "# Calculate the Posterior Standard Deviation\n",
    "pos_std = samples[:, :posterior.num_param].std(axis = 0)\n",
    "\n",
    "# Construct a Result Table\n",
    "result_table = pd.DataFrame(np.array([pos_mean, pos_std]).transpose(), columns = ['Posterior Mean', 'Posterior Std. Dev.'])\n",
    "result_table.index.name = 'Parameter'\n",
    "result_table.index += 1\n",
    "\n",
    "# Display the Result Table\n",
    "print('Final Estimation Results:')\n",
    "print('')\n",
    "print(result_table)"
   ]
  },
  {
   "cell_type": "markdown",
   "metadata": {},
   "source": [
    "## 2.4. Free Parameter Set 4"
   ]
  },
  {
   "cell_type": "markdown",
   "metadata": {},
   "source": [
    "### Model Specification"
   ]
  },
  {
   "cell_type": "code",
   "execution_count": 3,
   "metadata": {},
   "outputs": [],
   "source": [
    "# Specify the Simulated Data Characteristics\n",
    "T_emp = 1000    # Pseudo-empirical series length \n",
    "T_sim = 1000    # Length of each Monte Carlo replication\n",
    "n = 100         # Number of Monte Carlo replications\n",
    "\n",
    "# Specify the Pseudo-Empirical Data\n",
    "empirical = np.diff(alenn.models.random_walk(700, 0.4, 0.7, 1, 2, T_emp, 1, 1), axis = 0)[:, 0]\n",
    "\n",
    "# Define the Candidate Model Function\n",
    "def model(theta):\n",
    "    return np.diff(alenn.models.random_walk(700, theta[0], theta[1], 1, 2, T_sim, n, 7), axis = 0)\n",
    "\n",
    "# Define Parameter Priors\n",
    "priors = [stats.uniform(loc = -2, scale = 4).pdf,\n",
    "          stats.uniform(loc = -2, scale = 4).pdf]\n",
    "\n",
    "# Define the Parameter Bounds\n",
    "theta_lower = np.array([-2, -2])\n",
    "theta_upper = np.array([2, 2])"
   ]
  },
  {
   "cell_type": "markdown",
   "metadata": {},
   "source": [
    "### Posterior Specification"
   ]
  },
  {
   "cell_type": "code",
   "execution_count": 4,
   "metadata": {},
   "outputs": [
    {
     "name": "stdout",
     "output_type": "stream",
     "text": [
      "--------------------------------------\n",
      "Successfully created a new MDN object:\n",
      "--------------------------------------\n",
      "Number of lags:                3                   \n",
      "Number of mixture components:  16                  \n",
      "Number of neurons per layer:   32                  \n",
      "Number of hidden layers:       3                   \n",
      "Batch size:                    512                 \n",
      "Number of epochs:              12                  \n",
      "Activation function:           relu                \n",
      "Input noise:                   0.2                 \n",
      "Output noise:                  0.2                 \n",
      "--------------------------------------\n",
      "\n",
      "Model function successfully set.\n",
      "----------------------------------------------------------------------------\n",
      "\n",
      "Model prior successfully set. The model has 2 free parameters.\n",
      "----------------------------------------------------------------------------\n",
      "\n",
      "Empirical data successfully loaded. There are 999 observations in total.\n",
      "----------------------------------------------------------------------------\n",
      "\n"
     ]
    }
   ],
   "source": [
    "# Create an MDN Posterior Approximator Object (Uses Default Settings from the Paper)\n",
    "posterior = alenn.mdn.MDNPosterior()\n",
    "\n",
    "# Add the Model, Priors, and Empirical Data to the Newly-created Object\n",
    "posterior.set_model(model)\n",
    "posterior.set_prior(priors)\n",
    "posterior.load_data(empirical)"
   ]
  },
  {
   "cell_type": "markdown",
   "metadata": {},
   "source": [
    "### Sampler Specification"
   ]
  },
  {
   "cell_type": "code",
   "execution_count": 7,
   "metadata": {},
   "outputs": [
    {
     "name": "stdout",
     "output_type": "stream",
     "text": [
      "-----------------------------------------------\n",
      "Successfully created a new MCMC sampler object:\n",
      "-----------------------------------------------\n",
      "Number of sample sets:         5000                \n",
      "Number of samples per set:     70                  \n",
      "-----------------------------------------------\n",
      "\n",
      "MDNPosterior object successfully loaded.\n",
      "----------------------------------------------------------------------------\n",
      "\n",
      "Initialisation ranges successfully set.\n",
      "\n",
      "           Lower Bound  Upper Bound\n",
      "Parameter                          \n",
      "1                   -2            2\n",
      "2                   -2            2\n",
      "----------------------------------------------------------------------------\n",
      "\n"
     ]
    }
   ],
   "source": [
    "# Create an Adaptive MCMC Sampler Object\n",
    "sampler = alenn.mcmc.AdaptiveMCMC(K = 70, S = 5000)\n",
    "\n",
    "# Add the Posterior Approximator and Parameter Ranges to the Newly-created Object\n",
    "sampler.set_posterior(posterior)\n",
    "sampler.set_initialisation_ranges(theta_lower, theta_upper)\n",
    "\n",
    "# Initiate the Sampling Process\n",
    "sampler.sample_posterior()"
   ]
  },
  {
   "cell_type": "markdown",
   "metadata": {},
   "source": [
    "### Result Processing"
   ]
  },
  {
   "cell_type": "code",
   "execution_count": 6,
   "metadata": {},
   "outputs": [
    {
     "name": "stdout",
     "output_type": "stream",
     "text": [
      "Final Estimation Results:\n",
      "\n",
      "           Posterior Mean  Posterior Std. Dev.\n",
      "Parameter                                     \n",
      "1                0.503976             0.040158\n",
      "2                0.691284             0.111356\n"
     ]
    }
   ],
   "source": [
    "# Process the Sampler Output\n",
    "samples = sampler.process_samples(burn_in = 1500)\n",
    "\n",
    "# Calculate the Posterior Mean\n",
    "pos_mean = samples[:, :posterior.num_param].mean(axis = 0)\n",
    "\n",
    "# Calculate the Posterior Standard Deviation\n",
    "pos_std = samples[:, :posterior.num_param].std(axis = 0)\n",
    "\n",
    "# Construct a Result Table\n",
    "result_table = pd.DataFrame(np.array([pos_mean, pos_std]).transpose(), columns = ['Posterior Mean', 'Posterior Std. Dev.'])\n",
    "result_table.index.name = 'Parameter'\n",
    "result_table.index += 1\n",
    "\n",
    "# Display the Result Table\n",
    "print('Final Estimation Results:')\n",
    "print('')\n",
    "print(result_table)"
   ]
  },
  {
   "cell_type": "markdown",
   "metadata": {},
   "source": [
    "## 2.5. Free Parameter Set 5"
   ]
  },
  {
   "cell_type": "markdown",
   "metadata": {},
   "source": [
    "### Model Specification"
   ]
  },
  {
   "cell_type": "code",
   "execution_count": 3,
   "metadata": {},
   "outputs": [],
   "source": [
    "# Specify the Simulated Data Characteristics\n",
    "T_emp = 1000    # Pseudo-empirical series length \n",
    "T_sim = 1000    # Length of each Monte Carlo replication\n",
    "n = 100         # Number of Monte Carlo replications\n",
    "\n",
    "# Specify the Pseudo-Empirical Data\n",
    "empirical = np.diff(alenn.models.random_walk(700, 0.5, 0.4, 1, 2, T_emp, 1, 1), axis = 0)[:, 0]\n",
    "\n",
    "# Define the Candidate Model Function\n",
    "def model(theta):\n",
    "    return np.diff(alenn.models.random_walk(700, theta[0], theta[1], 1, 2, T_sim, n, 7), axis = 0)\n",
    "\n",
    "# Define Parameter Priors\n",
    "priors = [stats.uniform(loc = -2, scale = 4).pdf,\n",
    "          stats.uniform(loc = -2, scale = 4).pdf]\n",
    "\n",
    "# Define the Parameter Bounds\n",
    "theta_lower = np.array([-2, -2])\n",
    "theta_upper = np.array([2, 2])"
   ]
  },
  {
   "cell_type": "markdown",
   "metadata": {},
   "source": [
    "### Posterior Specification"
   ]
  },
  {
   "cell_type": "code",
   "execution_count": 4,
   "metadata": {},
   "outputs": [
    {
     "name": "stdout",
     "output_type": "stream",
     "text": [
      "--------------------------------------\n",
      "Successfully created a new MDN object:\n",
      "--------------------------------------\n",
      "Number of lags:                3                   \n",
      "Number of mixture components:  16                  \n",
      "Number of neurons per layer:   32                  \n",
      "Number of hidden layers:       3                   \n",
      "Batch size:                    512                 \n",
      "Number of epochs:              12                  \n",
      "Activation function:           relu                \n",
      "Input noise:                   0.2                 \n",
      "Output noise:                  0.2                 \n",
      "--------------------------------------\n",
      "\n",
      "Model function successfully set.\n",
      "----------------------------------------------------------------------------\n",
      "\n",
      "Model prior successfully set. The model has 2 free parameters.\n",
      "----------------------------------------------------------------------------\n",
      "\n",
      "Empirical data successfully loaded. There are 999 observations in total.\n",
      "----------------------------------------------------------------------------\n",
      "\n"
     ]
    }
   ],
   "source": [
    "# Create an MDN Posterior Approximator Object (Uses Default Settings from the Paper)\n",
    "posterior = alenn.mdn.MDNPosterior()\n",
    "\n",
    "# Add the Model, Priors, and Empirical Data to the Newly-created Object\n",
    "posterior.set_model(model)\n",
    "posterior.set_prior(priors)\n",
    "posterior.load_data(empirical)"
   ]
  },
  {
   "cell_type": "markdown",
   "metadata": {},
   "source": [
    "### Sampler Specification"
   ]
  },
  {
   "cell_type": "code",
   "execution_count": 7,
   "metadata": {},
   "outputs": [
    {
     "name": "stdout",
     "output_type": "stream",
     "text": [
      "-----------------------------------------------\n",
      "Successfully created a new MCMC sampler object:\n",
      "-----------------------------------------------\n",
      "Number of sample sets:         5000                \n",
      "Number of samples per set:     70                  \n",
      "-----------------------------------------------\n",
      "\n",
      "MDNPosterior object successfully loaded.\n",
      "----------------------------------------------------------------------------\n",
      "\n",
      "Initialisation ranges successfully set.\n",
      "\n",
      "           Lower Bound  Upper Bound\n",
      "Parameter                          \n",
      "1                   -2            2\n",
      "2                   -2            2\n",
      "----------------------------------------------------------------------------\n",
      "\n"
     ]
    }
   ],
   "source": [
    "# Create an Adaptive MCMC Sampler Object\n",
    "sampler = alenn.mcmc.AdaptiveMCMC(K = 70, S = 5000)\n",
    "\n",
    "# Add the Posterior Approximator and Parameter Ranges to the Newly-created Object\n",
    "sampler.set_posterior(posterior)\n",
    "sampler.set_initialisation_ranges(theta_lower, theta_upper)\n",
    "\n",
    "# Initiate the Sampling Process\n",
    "sampler.sample_posterior()"
   ]
  },
  {
   "cell_type": "markdown",
   "metadata": {},
   "source": [
    "### Result Processing"
   ]
  },
  {
   "cell_type": "code",
   "execution_count": 6,
   "metadata": {},
   "outputs": [
    {
     "name": "stdout",
     "output_type": "stream",
     "text": [
      "Final Estimation Results:\n",
      "\n",
      "           Posterior Mean  Posterior Std. Dev.\n",
      "Parameter                                     \n",
      "1                0.570045             0.040679\n",
      "2                0.468396             0.127495\n"
     ]
    }
   ],
   "source": [
    "# Process the Sampler Output\n",
    "samples = sampler.process_samples(burn_in = 1500)\n",
    "\n",
    "# Calculate the Posterior Mean\n",
    "pos_mean = samples[:, :posterior.num_param].mean(axis = 0)\n",
    "\n",
    "# Calculate the Posterior Standard Deviation\n",
    "pos_std = samples[:, :posterior.num_param].std(axis = 0)\n",
    "\n",
    "# Construct a Result Table\n",
    "result_table = pd.DataFrame(np.array([pos_mean, pos_std]).transpose(), columns = ['Posterior Mean', 'Posterior Std. Dev.'])\n",
    "result_table.index.name = 'Parameter'\n",
    "result_table.index += 1\n",
    "\n",
    "# Display the Result Table\n",
    "print('Final Estimation Results:')\n",
    "print('')\n",
    "print(result_table)"
   ]
  },
  {
   "cell_type": "markdown",
   "metadata": {},
   "source": [
    "## 2.6. Free Parameter Set 6"
   ]
  },
  {
   "cell_type": "markdown",
   "metadata": {},
   "source": [
    "### Model Specification"
   ]
  },
  {
   "cell_type": "code",
   "execution_count": 3,
   "metadata": {},
   "outputs": [],
   "source": [
    "# Specify the Simulated Data Characteristics\n",
    "T_emp = 1000    # Pseudo-empirical series length \n",
    "T_sim = 1000    # Length of each Monte Carlo replication\n",
    "n = 100         # Number of Monte Carlo replications\n",
    "\n",
    "# Specify the Pseudo-Empirical Data\n",
    "empirical = np.diff(alenn.models.random_walk(700, 0.7, 0.4, 1, 2, T_emp, 1, 1), axis = 0)[:, 0]\n",
    "\n",
    "# Define the Candidate Model Function\n",
    "def model(theta):\n",
    "    return np.diff(alenn.models.random_walk(700, theta[0], theta[1], 1, 2, T_sim, n, 7), axis = 0)\n",
    "\n",
    "# Define Parameter Priors\n",
    "priors = [stats.uniform(loc = -2, scale = 4).pdf,\n",
    "          stats.uniform(loc = -2, scale = 4).pdf]\n",
    "\n",
    "# Define the Parameter Bounds\n",
    "theta_lower = np.array([-2, -2])\n",
    "theta_upper = np.array([2, 2])"
   ]
  },
  {
   "cell_type": "markdown",
   "metadata": {},
   "source": [
    "### Posterior Specification"
   ]
  },
  {
   "cell_type": "code",
   "execution_count": 4,
   "metadata": {},
   "outputs": [
    {
     "name": "stdout",
     "output_type": "stream",
     "text": [
      "--------------------------------------\n",
      "Successfully created a new MDN object:\n",
      "--------------------------------------\n",
      "Number of lags:                3                   \n",
      "Number of mixture components:  16                  \n",
      "Number of neurons per layer:   32                  \n",
      "Number of hidden layers:       3                   \n",
      "Batch size:                    512                 \n",
      "Number of epochs:              12                  \n",
      "Activation function:           relu                \n",
      "Input noise:                   0.2                 \n",
      "Output noise:                  0.2                 \n",
      "--------------------------------------\n",
      "\n",
      "Model function successfully set.\n",
      "----------------------------------------------------------------------------\n",
      "\n",
      "Model prior successfully set. The model has 2 free parameters.\n",
      "----------------------------------------------------------------------------\n",
      "\n",
      "Empirical data successfully loaded. There are 999 observations in total.\n",
      "----------------------------------------------------------------------------\n",
      "\n"
     ]
    }
   ],
   "source": [
    "# Create an MDN Posterior Approximator Object (Uses Default Settings from the Paper)\n",
    "posterior = alenn.mdn.MDNPosterior()\n",
    "\n",
    "# Add the Model, Priors, and Empirical Data to the Newly-created Object\n",
    "posterior.set_model(model)\n",
    "posterior.set_prior(priors)\n",
    "posterior.load_data(empirical)"
   ]
  },
  {
   "cell_type": "markdown",
   "metadata": {},
   "source": [
    "### Sampler Specification"
   ]
  },
  {
   "cell_type": "code",
   "execution_count": 7,
   "metadata": {},
   "outputs": [
    {
     "name": "stdout",
     "output_type": "stream",
     "text": [
      "-----------------------------------------------\n",
      "Successfully created a new MCMC sampler object:\n",
      "-----------------------------------------------\n",
      "Number of sample sets:         5000                \n",
      "Number of samples per set:     70                  \n",
      "-----------------------------------------------\n",
      "\n",
      "MDNPosterior object successfully loaded.\n",
      "----------------------------------------------------------------------------\n",
      "\n",
      "Initialisation ranges successfully set.\n",
      "\n",
      "           Lower Bound  Upper Bound\n",
      "Parameter                          \n",
      "1                   -2            2\n",
      "2                   -2            2\n",
      "----------------------------------------------------------------------------\n",
      "\n"
     ]
    }
   ],
   "source": [
    "# Create an Adaptive MCMC Sampler Object\n",
    "sampler = alenn.mcmc.AdaptiveMCMC(K = 70, S = 5000)\n",
    "\n",
    "# Add the Posterior Approximator and Parameter Ranges to the Newly-created Object\n",
    "sampler.set_posterior(posterior)\n",
    "sampler.set_initialisation_ranges(theta_lower, theta_upper)\n",
    "\n",
    "# Initiate the Sampling Process\n",
    "sampler.sample_posterior()"
   ]
  },
  {
   "cell_type": "markdown",
   "metadata": {},
   "source": [
    "### Result Processing"
   ]
  },
  {
   "cell_type": "code",
   "execution_count": 6,
   "metadata": {},
   "outputs": [
    {
     "name": "stdout",
     "output_type": "stream",
     "text": [
      "Final Estimation Results:\n",
      "\n",
      "           Posterior Mean  Posterior Std. Dev.\n",
      "Parameter                                     \n",
      "1                0.762023             0.039210\n",
      "2                0.441793             0.152354\n"
     ]
    }
   ],
   "source": [
    "# Process the Sampler Output\n",
    "samples = sampler.process_samples(burn_in = 1500)\n",
    "\n",
    "# Calculate the Posterior Mean\n",
    "pos_mean = samples[:, :posterior.num_param].mean(axis = 0)\n",
    "\n",
    "# Calculate the Posterior Standard Deviation\n",
    "pos_std = samples[:, :posterior.num_param].std(axis = 0)\n",
    "\n",
    "# Construct a Result Table\n",
    "result_table = pd.DataFrame(np.array([pos_mean, pos_std]).transpose(), columns = ['Posterior Mean', 'Posterior Std. Dev.'])\n",
    "result_table.index.name = 'Parameter'\n",
    "result_table.index += 1\n",
    "\n",
    "# Display the Result Table\n",
    "print('Final Estimation Results:')\n",
    "print('')\n",
    "print(result_table)"
   ]
  }
 ],
 "metadata": {
  "kernelspec": {
   "display_name": "Python 3",
   "language": "python",
   "name": "python3"
  },
  "language_info": {
   "codemirror_mode": {
    "name": "ipython",
    "version": 3
   },
   "file_extension": ".py",
   "mimetype": "text/x-python",
   "name": "python",
   "nbconvert_exporter": "python",
   "pygments_lexer": "ipython3",
   "version": "3.7.9"
  }
 },
 "nbformat": 4,
 "nbformat_minor": 4
}
